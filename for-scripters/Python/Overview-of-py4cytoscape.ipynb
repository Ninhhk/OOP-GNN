{
  "cells": [
    {
      "cell_type": "markdown",
      "metadata": {
        "id": "18_O9zmifDWD"
      },
      "source": [
        "# Overview of py4cytoscape\n",
        "[![Open In Colab](https://colab.research.google.com/assets/colab-badge.svg)](https://colab.research.google.com/github/cytoscape/cytoscape-automation/blob/master/for-scripters/Python/Overview-of-py4cytoscape.ipynb)\n",
        "\n",
        "**by Kozo Nishida, Alexander Pico, Tanja Muetze, Georgi Kolishovski, Paul Shannon, Barry Demchak**\n",
        "\n",
        "**py4cytoscape 1.7.0**\n",
        "\n",
        "Cytoscape is a well-known bioinformatics tool for displaying and exploring biological networks. Python is a powerful programming language and environment for statistical and exploratory data analysis. *py4cytoscape* uses CyREST to communicate between **Python** and Cytoscape, allowing any graphs (e.g., igraph or dataframes) to be viewed, explored and manipulated with the Cytoscape point-and-click visual interface. Thus, via py4cytoscape, these two quite different, quite useful bioinformatics software environments are connected, mutually enhancing each other, providing new possibilities for exploring biological data.\n",
        "\n",
        "## Prerequisites\n",
        "There are two options for using py4cytoscape.\n",
        "\n",
        "1. **LOCAL** Cytoscape (3.10.0 or greater) + **Local** Jupyter environment (including py4cytoscape).\n",
        "2. **LOCAL** Cytoscape (3.10.0 or greater) + **Remote** Jupyter environment (including py4cytoscape).\n",
        "\n",
        "### Setup required for option **1.**\n",
        "\n",
        "- Install Cytoscape on your PC. (See https://cytoscape.org/download.html)\n",
        "- Install Jupyter on your PC. (See https://jupyter.org/install)\n",
        "- Install py4cytoscape with `pip install py4cytoscape` on your PC.\n",
        "\n",
        "### Setup required for option **2.**\n",
        "\n",
        "- Install Cytoscape on your PC. (See https://cytoscape.org/download.html)\n",
        "- Run the next cell.\n",
        "  The next cell installs py4cytoscape in the **REMOTE** Jupyter environment and set up [Jupyter-Bridge](https://github.com/cytoscape/jupyter-bridge).\n",
        "  (If you use your **LOCAL** Jupyter environment in **your desktop machine** same with Cytoscape, you can **skip** the next cell.)"
      ],
      "id": "18_O9zmifDWD"
    },
    {
      "cell_type": "code",
      "execution_count": 1,
      "metadata": {
        "id": "Tc_6JroifDWF",
        "outputId": "2f386720-b0df-4713-acfa-4c5484e89d80",
        "colab": {
          "base_uri": "https://localhost:8080/",
          "height": 683,
          "referenced_widgets": [
            "344ab37e7399496fbf75d8d5f969e691",
            "433d03708d2549c5ad22d64a3879ef5f",
            "c99a7ca8db234e659ae0bffd6c86f067",
            "25ba9dda28f3438c8ec0d13160d6b2d8"
          ]
        }
      },
      "outputs": [
        {
          "output_type": "stream",
          "name": "stderr",
          "text": [
            "/usr/local/lib/python3.10/dist-packages/_distutils_hack/__init__.py:31: UserWarning: Setuptools is replacing distutils. Support for replacing an already imported distutils is deprecated. In the future, this condition will fail. Register concerns at https://github.com/pypa/setuptools/issues/new?template=distutils-deprecation.yml\n",
            "  warnings.warn(\n"
          ]
        },
        {
          "output_type": "display_data",
          "data": {
            "text/plain": [
              "Collecting py4cytoscape\n"
            ],
            "text/html": [
              "<pre style=\"white-space:pre;overflow-x:auto;line-height:normal;font-family:Menlo,'DejaVu Sans Mono',consolas,'Courier New',monospace\">Collecting py4cytoscape\n",
              "</pre>\n"
            ]
          },
          "metadata": {}
        },
        {
          "output_type": "display_data",
          "data": {
            "text/plain": [
              "  Downloading py4cytoscape-1.11.0-py3-none-any.whl.metadata (4.8 kB)\n"
            ],
            "text/html": [
              "<pre style=\"white-space:pre;overflow-x:auto;line-height:normal;font-family:Menlo,'DejaVu Sans Mono',consolas,'Courier New',monospace\">  Downloading py4cytoscape-1.11.0-py3-none-any.whl.metadata (4.8 kB)\n",
              "</pre>\n"
            ]
          },
          "metadata": {}
        },
        {
          "output_type": "display_data",
          "data": {
            "text/plain": [
              "Requirement already satisfied: pandas in /usr/local/lib/python3.10/dist-packages (from py4cytoscape) (2.2.2)\n"
            ],
            "text/html": [
              "<pre style=\"white-space:pre;overflow-x:auto;line-height:normal;font-family:Menlo,'DejaVu Sans Mono',consolas,'Courier New',monospace\">Requirement already satisfied: pandas in /usr/local/lib/python3.10/dist-packages (from py4cytoscape) (2.2.2)\n",
              "</pre>\n"
            ]
          },
          "metadata": {}
        },
        {
          "output_type": "display_data",
          "data": {
            "text/plain": [
              "Requirement already satisfied: networkx in /usr/local/lib/python3.10/dist-packages (from py4cytoscape) (3.4.2)\n"
            ],
            "text/html": [
              "<pre style=\"white-space:pre;overflow-x:auto;line-height:normal;font-family:Menlo,'DejaVu Sans Mono',consolas,'Courier New',monospace\">Requirement already satisfied: networkx in /usr/local/lib/python3.10/dist-packages (from py4cytoscape) (3.4.2)\n",
              "</pre>\n"
            ]
          },
          "metadata": {}
        },
        {
          "output_type": "display_data",
          "data": {
            "text/plain": [
              "Requirement already satisfied: requests in /usr/local/lib/python3.10/dist-packages (from py4cytoscape) (2.32.3)\n"
            ],
            "text/html": [
              "<pre style=\"white-space:pre;overflow-x:auto;line-height:normal;font-family:Menlo,'DejaVu Sans Mono',consolas,'Courier New',monospace\">Requirement already satisfied: requests in /usr/local/lib/python3.10/dist-packages (from py4cytoscape) (2.32.3)\n",
              "</pre>\n"
            ]
          },
          "metadata": {}
        },
        {
          "output_type": "display_data",
          "data": {
            "text/plain": [
              "Collecting igraph (from py4cytoscape)\n"
            ],
            "text/html": [
              "<pre style=\"white-space:pre;overflow-x:auto;line-height:normal;font-family:Menlo,'DejaVu Sans Mono',consolas,'Courier New',monospace\">Collecting igraph (from py4cytoscape)\n",
              "</pre>\n"
            ]
          },
          "metadata": {}
        },
        {
          "output_type": "display_data",
          "data": {
            "text/plain": [
              "  Downloading igraph-0.11.8-cp39-abi3-manylinux_2_17_x86_64.manylinux2014_x86_64.whl.metadata (3.8 kB)\n"
            ],
            "text/html": [
              "<pre style=\"white-space:pre;overflow-x:auto;line-height:normal;font-family:Menlo,'DejaVu Sans Mono',consolas,'Courier New',monospace\">  Downloading igraph-0.11.8-cp39-abi3-manylinux_2_17_x86_64.manylinux2014_x86_64.whl.metadata (3.8 kB)\n",
              "</pre>\n"
            ]
          },
          "metadata": {}
        },
        {
          "output_type": "display_data",
          "data": {
            "text/plain": [
              "Collecting colorbrewer (from py4cytoscape)\n"
            ],
            "text/html": [
              "<pre style=\"white-space:pre;overflow-x:auto;line-height:normal;font-family:Menlo,'DejaVu Sans Mono',consolas,'Courier New',monospace\">Collecting colorbrewer (from py4cytoscape)\n",
              "</pre>\n"
            ]
          },
          "metadata": {}
        },
        {
          "output_type": "display_data",
          "data": {
            "text/plain": [
              "  Downloading colorbrewer-0.2.0-py3-none-any.whl.metadata (543 bytes)\n"
            ],
            "text/html": [
              "<pre style=\"white-space:pre;overflow-x:auto;line-height:normal;font-family:Menlo,'DejaVu Sans Mono',consolas,'Courier New',monospace\">  Downloading colorbrewer-0.2.0-py3-none-any.whl.metadata (543 bytes)\n",
              "</pre>\n"
            ]
          },
          "metadata": {}
        },
        {
          "output_type": "display_data",
          "data": {
            "text/plain": [
              "Requirement already satisfied: chardet in /usr/local/lib/python3.10/dist-packages (from py4cytoscape) (5.2.0)\n"
            ],
            "text/html": [
              "<pre style=\"white-space:pre;overflow-x:auto;line-height:normal;font-family:Menlo,'DejaVu Sans Mono',consolas,'Courier New',monospace\">Requirement already satisfied: chardet in /usr/local/lib/python3.10/dist-packages (from py4cytoscape) (5.2.0)\n",
              "</pre>\n"
            ]
          },
          "metadata": {}
        },
        {
          "output_type": "display_data",
          "data": {
            "text/plain": [
              "Requirement already satisfied: decorator in /usr/local/lib/python3.10/dist-packages (from py4cytoscape) (4.4.2)\n"
            ],
            "text/html": [
              "<pre style=\"white-space:pre;overflow-x:auto;line-height:normal;font-family:Menlo,'DejaVu Sans Mono',consolas,'Courier New',monospace\">Requirement already satisfied: decorator in /usr/local/lib/python3.10/dist-packages (from py4cytoscape) (4.4.2)\n",
              "</pre>\n"
            ]
          },
          "metadata": {}
        },
        {
          "output_type": "display_data",
          "data": {
            "text/plain": [
              "Collecting backoff (from py4cytoscape)\n"
            ],
            "text/html": [
              "<pre style=\"white-space:pre;overflow-x:auto;line-height:normal;font-family:Menlo,'DejaVu Sans Mono',consolas,'Courier New',monospace\">Collecting backoff (from py4cytoscape)\n",
              "</pre>\n"
            ]
          },
          "metadata": {}
        },
        {
          "output_type": "display_data",
          "data": {
            "text/plain": [
              "  Downloading backoff-2.2.1-py3-none-any.whl.metadata (14 kB)\n"
            ],
            "text/html": [
              "<pre style=\"white-space:pre;overflow-x:auto;line-height:normal;font-family:Menlo,'DejaVu Sans Mono',consolas,'Courier New',monospace\">  Downloading backoff-2.2.1-py3-none-any.whl.metadata (14 kB)\n",
              "</pre>\n"
            ]
          },
          "metadata": {}
        },
        {
          "output_type": "display_data",
          "data": {
            "text/plain": [
              "Requirement already satisfied: colour in /usr/local/lib/python3.10/dist-packages (from py4cytoscape) (0.1.5)\n"
            ],
            "text/html": [
              "<pre style=\"white-space:pre;overflow-x:auto;line-height:normal;font-family:Menlo,'DejaVu Sans Mono',consolas,'Courier New',monospace\">Requirement already satisfied: colour in /usr/local/lib/python3.10/dist-packages (from py4cytoscape) (0.1.5)\n",
              "</pre>\n"
            ]
          },
          "metadata": {}
        },
        {
          "output_type": "display_data",
          "data": {
            "text/plain": [
              "Requirement already satisfied: six in /usr/local/lib/python3.10/dist-packages (from colorbrewer->py4cytoscape) (1.17.0)\n"
            ],
            "text/html": [
              "<pre style=\"white-space:pre;overflow-x:auto;line-height:normal;font-family:Menlo,'DejaVu Sans Mono',consolas,'Courier New',monospace\">Requirement already satisfied: six in /usr/local/lib/python3.10/dist-packages (from colorbrewer-&gt;py4cytoscape) (1.17.0)\n",
              "</pre>\n"
            ]
          },
          "metadata": {}
        },
        {
          "output_type": "display_data",
          "data": {
            "text/plain": [
              "Collecting texttable>=1.6.2 (from igraph->py4cytoscape)\n"
            ],
            "text/html": [
              "<pre style=\"white-space:pre;overflow-x:auto;line-height:normal;font-family:Menlo,'DejaVu Sans Mono',consolas,'Courier New',monospace\">Collecting texttable&gt;=1.6.2 (from igraph-&gt;py4cytoscape)\n",
              "</pre>\n"
            ]
          },
          "metadata": {}
        },
        {
          "output_type": "display_data",
          "data": {
            "text/plain": [
              "  Downloading texttable-1.7.0-py2.py3-none-any.whl.metadata (9.8 kB)\n"
            ],
            "text/html": [
              "<pre style=\"white-space:pre;overflow-x:auto;line-height:normal;font-family:Menlo,'DejaVu Sans Mono',consolas,'Courier New',monospace\">  Downloading texttable-1.7.0-py2.py3-none-any.whl.metadata (9.8 kB)\n",
              "</pre>\n"
            ]
          },
          "metadata": {}
        },
        {
          "output_type": "display_data",
          "data": {
            "text/plain": [
              "Requirement already satisfied: numpy>=1.22.4 in /usr/local/lib/python3.10/dist-packages (from pandas->py4cytoscape) (1.26.4)\n"
            ],
            "text/html": [
              "<pre style=\"white-space:pre;overflow-x:auto;line-height:normal;font-family:Menlo,'DejaVu Sans Mono',consolas,'Courier New',monospace\">Requirement already satisfied: numpy&gt;=1.22.4 in /usr/local/lib/python3.10/dist-packages (from pandas-&gt;py4cytoscape) (1.26.4)\n",
              "</pre>\n"
            ]
          },
          "metadata": {}
        },
        {
          "output_type": "display_data",
          "data": {
            "text/plain": [
              "Requirement already satisfied: python-dateutil>=2.8.2 in /usr/local/lib/python3.10/dist-packages (from pandas->py4cytoscape) (2.8.2)\n"
            ],
            "text/html": [
              "<pre style=\"white-space:pre;overflow-x:auto;line-height:normal;font-family:Menlo,'DejaVu Sans Mono',consolas,'Courier New',monospace\">Requirement already satisfied: python-dateutil&gt;=2.8.2 in /usr/local/lib/python3.10/dist-packages (from pandas-&gt;py4cytoscape) (2.8.2)\n",
              "</pre>\n"
            ]
          },
          "metadata": {}
        },
        {
          "output_type": "display_data",
          "data": {
            "text/plain": [
              "Requirement already satisfied: pytz>=2020.1 in /usr/local/lib/python3.10/dist-packages (from pandas->py4cytoscape) (2024.2)\n"
            ],
            "text/html": [
              "<pre style=\"white-space:pre;overflow-x:auto;line-height:normal;font-family:Menlo,'DejaVu Sans Mono',consolas,'Courier New',monospace\">Requirement already satisfied: pytz&gt;=2020.1 in /usr/local/lib/python3.10/dist-packages (from pandas-&gt;py4cytoscape) (2024.2)\n",
              "</pre>\n"
            ]
          },
          "metadata": {}
        },
        {
          "output_type": "display_data",
          "data": {
            "text/plain": [
              "Requirement already satisfied: tzdata>=2022.7 in /usr/local/lib/python3.10/dist-packages (from pandas->py4cytoscape) (2024.2)\n"
            ],
            "text/html": [
              "<pre style=\"white-space:pre;overflow-x:auto;line-height:normal;font-family:Menlo,'DejaVu Sans Mono',consolas,'Courier New',monospace\">Requirement already satisfied: tzdata&gt;=2022.7 in /usr/local/lib/python3.10/dist-packages (from pandas-&gt;py4cytoscape) (2024.2)\n",
              "</pre>\n"
            ]
          },
          "metadata": {}
        },
        {
          "output_type": "display_data",
          "data": {
            "text/plain": [
              "Requirement already satisfied: charset-normalizer<4,>=2 in /usr/local/lib/python3.10/dist-packages (from requests->py4cytoscape) (3.4.0)\n"
            ],
            "text/html": [
              "<pre style=\"white-space:pre;overflow-x:auto;line-height:normal;font-family:Menlo,'DejaVu Sans Mono',consolas,'Courier New',monospace\">Requirement already satisfied: charset-normalizer&lt;4,&gt;=2 in /usr/local/lib/python3.10/dist-packages (from requests-&gt;py4cytoscape) (3.4.0)\n",
              "</pre>\n"
            ]
          },
          "metadata": {}
        },
        {
          "output_type": "display_data",
          "data": {
            "text/plain": [
              "Requirement already satisfied: idna<4,>=2.5 in /usr/local/lib/python3.10/dist-packages (from requests->py4cytoscape) (3.10)\n"
            ],
            "text/html": [
              "<pre style=\"white-space:pre;overflow-x:auto;line-height:normal;font-family:Menlo,'DejaVu Sans Mono',consolas,'Courier New',monospace\">Requirement already satisfied: idna&lt;4,&gt;=2.5 in /usr/local/lib/python3.10/dist-packages (from requests-&gt;py4cytoscape) (3.10)\n",
              "</pre>\n"
            ]
          },
          "metadata": {}
        },
        {
          "output_type": "display_data",
          "data": {
            "text/plain": [
              "Requirement already satisfied: urllib3<3,>=1.21.1 in /usr/local/lib/python3.10/dist-packages (from requests->py4cytoscape) (2.2.3)\n"
            ],
            "text/html": [
              "<pre style=\"white-space:pre;overflow-x:auto;line-height:normal;font-family:Menlo,'DejaVu Sans Mono',consolas,'Courier New',monospace\">Requirement already satisfied: urllib3&lt;3,&gt;=1.21.1 in /usr/local/lib/python3.10/dist-packages (from requests-&gt;py4cytoscape) (2.2.3)\n",
              "</pre>\n"
            ]
          },
          "metadata": {}
        },
        {
          "output_type": "display_data",
          "data": {
            "text/plain": [
              "Requirement already satisfied: certifi>=2017.4.17 in /usr/local/lib/python3.10/dist-packages (from requests->py4cytoscape) (2024.8.30)\n"
            ],
            "text/html": [
              "<pre style=\"white-space:pre;overflow-x:auto;line-height:normal;font-family:Menlo,'DejaVu Sans Mono',consolas,'Courier New',monospace\">Requirement already satisfied: certifi&gt;=2017.4.17 in /usr/local/lib/python3.10/dist-packages (from requests-&gt;py4cytoscape) (2024.8.30)\n",
              "</pre>\n"
            ]
          },
          "metadata": {}
        },
        {
          "output_type": "display_data",
          "data": {
            "text/plain": [
              "Downloading py4cytoscape-1.11.0-py3-none-any.whl (181 kB)\n"
            ],
            "text/html": [
              "<pre style=\"white-space:pre;overflow-x:auto;line-height:normal;font-family:Menlo,'DejaVu Sans Mono',consolas,'Courier New',monospace\">Downloading py4cytoscape-1.11.0-py3-none-any.whl (181 kB)\n",
              "</pre>\n"
            ]
          },
          "metadata": {}
        },
        {
          "output_type": "display_data",
          "data": {
            "text/plain": [
              "Output()"
            ],
            "application/vnd.jupyter.widget-view+json": {
              "version_major": 2,
              "version_minor": 0,
              "model_id": "344ab37e7399496fbf75d8d5f969e691"
            }
          },
          "metadata": {}
        },
        {
          "output_type": "display_data",
          "data": {
            "text/plain": [],
            "text/html": [
              "<pre style=\"white-space:pre;overflow-x:auto;line-height:normal;font-family:Menlo,'DejaVu Sans Mono',consolas,'Courier New',monospace\"></pre>\n"
            ]
          },
          "metadata": {}
        },
        {
          "output_type": "display_data",
          "data": {
            "text/plain": [
              "\n"
            ],
            "text/html": [
              "<pre style=\"white-space:pre;overflow-x:auto;line-height:normal;font-family:Menlo,'DejaVu Sans Mono',consolas,'Courier New',monospace\">\n",
              "</pre>\n"
            ]
          },
          "metadata": {}
        },
        {
          "output_type": "display_data",
          "data": {
            "text/plain": [
              "Downloading backoff-2.2.1-py3-none-any.whl (15 kB)\n"
            ],
            "text/html": [
              "<pre style=\"white-space:pre;overflow-x:auto;line-height:normal;font-family:Menlo,'DejaVu Sans Mono',consolas,'Courier New',monospace\">Downloading backoff-2.2.1-py3-none-any.whl (15 kB)\n",
              "</pre>\n"
            ]
          },
          "metadata": {}
        },
        {
          "output_type": "display_data",
          "data": {
            "text/plain": [
              "Downloading colorbrewer-0.2.0-py3-none-any.whl (9.4 kB)\n"
            ],
            "text/html": [
              "<pre style=\"white-space:pre;overflow-x:auto;line-height:normal;font-family:Menlo,'DejaVu Sans Mono',consolas,'Courier New',monospace\">Downloading colorbrewer-0.2.0-py3-none-any.whl (9.4 kB)\n",
              "</pre>\n"
            ]
          },
          "metadata": {}
        },
        {
          "output_type": "display_data",
          "data": {
            "text/plain": [
              "Downloading igraph-0.11.8-cp39-abi3-manylinux_2_17_x86_64.manylinux2014_x86_64.whl (3.1 MB)\n"
            ],
            "text/html": [
              "<pre style=\"white-space:pre;overflow-x:auto;line-height:normal;font-family:Menlo,'DejaVu Sans Mono',consolas,'Courier New',monospace\">Downloading igraph-0.11.8-cp39-abi3-manylinux_2_17_x86_64.manylinux2014_x86_64.whl (3.1 MB)\n",
              "</pre>\n"
            ]
          },
          "metadata": {}
        },
        {
          "output_type": "display_data",
          "data": {
            "text/plain": [
              "Output()"
            ],
            "application/vnd.jupyter.widget-view+json": {
              "version_major": 2,
              "version_minor": 0,
              "model_id": "c99a7ca8db234e659ae0bffd6c86f067"
            }
          },
          "metadata": {}
        },
        {
          "output_type": "display_data",
          "data": {
            "text/plain": [],
            "text/html": [
              "<pre style=\"white-space:pre;overflow-x:auto;line-height:normal;font-family:Menlo,'DejaVu Sans Mono',consolas,'Courier New',monospace\"></pre>\n"
            ]
          },
          "metadata": {}
        },
        {
          "output_type": "display_data",
          "data": {
            "text/plain": [
              "\n"
            ],
            "text/html": [
              "<pre style=\"white-space:pre;overflow-x:auto;line-height:normal;font-family:Menlo,'DejaVu Sans Mono',consolas,'Courier New',monospace\">\n",
              "</pre>\n"
            ]
          },
          "metadata": {}
        },
        {
          "output_type": "display_data",
          "data": {
            "text/plain": [
              "Downloading texttable-1.7.0-py2.py3-none-any.whl (10 kB)\n"
            ],
            "text/html": [
              "<pre style=\"white-space:pre;overflow-x:auto;line-height:normal;font-family:Menlo,'DejaVu Sans Mono',consolas,'Courier New',monospace\">Downloading texttable-1.7.0-py2.py3-none-any.whl (10 kB)\n",
              "</pre>\n"
            ]
          },
          "metadata": {}
        },
        {
          "output_type": "display_data",
          "data": {
            "text/plain": [
              "Installing collected packages: texttable, igraph, colorbrewer, backoff, py4cytoscape\n"
            ],
            "text/html": [
              "<pre style=\"white-space:pre;overflow-x:auto;line-height:normal;font-family:Menlo,'DejaVu Sans Mono',consolas,'Courier New',monospace\">Installing collected packages: texttable, igraph, colorbrewer, backoff, py4cytoscape\n",
              "</pre>\n"
            ]
          },
          "metadata": {}
        },
        {
          "output_type": "display_data",
          "data": {
            "text/plain": [
              "Successfully installed backoff-2.2.1 colorbrewer-0.2.0 igraph-0.11.8 py4cytoscape-1.11.0 texttable-1.7.0\n"
            ],
            "text/html": [
              "<pre style=\"white-space:pre;overflow-x:auto;line-height:normal;font-family:Menlo,'DejaVu Sans Mono',consolas,'Courier New',monospace\">Successfully installed backoff-2.2.1 colorbrewer-0.2.0 igraph-0.11.8 py4cytoscape-1.11.0 texttable-1.7.0\n",
              "</pre>\n"
            ]
          },
          "metadata": {}
        },
        {
          "output_type": "display_data",
          "data": {
            "text/plain": [
              "NumExpr defaulting to 2 threads.\n"
            ],
            "text/html": [
              "<pre style=\"white-space:pre;overflow-x:auto;line-height:normal;font-family:Menlo,'DejaVu Sans Mono',consolas,'Courier New',monospace\">NumExpr defaulting to 2 threads.\n",
              "</pre>\n"
            ]
          },
          "metadata": {}
        },
        {
          "output_type": "stream",
          "name": "stdout",
          "text": [
            "Loading Javascript client ... 367c58e4-c900-4a6c-9b29-b0b3983cfe12 on https://jupyter-bridge.cytoscape.org\n",
            "ADVICE: WHEN RUNNING UNDER COLAB, DO NOT RE-RUN THIS CELL WITHOUT MANUALLY EXECUTING Runtime | Factory Reset Runtime FROM THE COLAB MENU FIRST.\n"
          ]
        },
        {
          "output_type": "execute_result",
          "data": {
            "text/plain": [
              "<IPython.core.display.Javascript object>"
            ],
            "application/javascript": [
              "var Channel = \"367c58e4-c900-4a6c-9b29-b0b3983cfe12\"; \n",
              "\n",
              "var JupyterBridge = \"https://jupyter-bridge.cytoscape.org\"; \n",
              "\n",
              "  /*\n",
              "    These functions serve as a connector between a remote Jupyter server and Cytoscape.\n",
              "    They run in the user's browser, which also shows the Jupyter Notebook.\n",
              "\n",
              "    A remote Jupyter Notebook call to the py4cytoscape package is forwarded to the Jupyter Bridge,\n",
              "    which is a standalone server. The functions in this connector execute in the Jupyter Notebook\n",
              "    browser, which executes on the same PC as Cytoscape. So, that's 4 components: (A) remote\n",
              "    Jupyter Notebook, (B) separate Jupyter Bridge server, (C) this browser-based component, and\n",
              "    (D) Cytoscape. (A) is on a remote server, (B) is on a different remote server, and (C) and (D)\n",
              "    are on the user's PC.\n",
              "\n",
              "    (A) calls its py4cytoscape module, which forwards the request (in a JSON wrapper) to (B).\n",
              "    (C) picks up the request from (B), unpacks the request and forwards it to (D). (C) awaits a\n",
              "    reply from (D), and when it gets it, it forwards the reply (in a JSON wrapper) to (B).\n",
              "    (A)'s py4cytoscape module picks up the reply on (B) when it becomes available, unpacks it,\n",
              "    and returns it to (A).\n",
              "\n",
              "    A Jupyter Notebook can talk to only one Cytoscape (i.e., the one on the machine running the\n",
              "    Jupyter Notebook browser), and Cytoscape should be called by only one Jupyter Notebook. The\n",
              "    Jupyter Bridge differentiates between Notebook-Cytoscape conversations via a channel UUID.\n",
              "    The UUID is prepended to this browser component by py4Cytoscape, and the component is\n",
              "    started by the Jupyter Notebook. (I wish py4Cytoscape could start the component, too, but I\n",
              "    haven't figured out how to do that yet, so startup code *is* required in the Jupyter\n",
              "    Notebook.)\n",
              "\n",
              "    Note that for the case of a Jupyter server running on the same machine as Cytoscape, this\n",
              "    bridge isn't necessary because the Jupyter server's HTTP calls can easily connect to\n",
              "    Cytoscape over a localhost socket. So, the combination of Jupyter Bridge and this browser\n",
              "    component solves the problem of a Jupyter server (e.g., Google's Colab) that can't\n",
              "    connect to Cytoscape that sits behind a firewall.\n",
              "\n",
              "    The request represents an HTTP call that py4cytoscape would normally make via HTTP directly\n",
              "    to Cytoscape via localhost when both py4cytoscape and Cytoscape are running on the same machine.\n",
              " */\n",
              "\n",
              "const VERSION = '0.0.2'\n",
              "\n",
              "var showDebug; // Flag indicating whether to show Jupyter-bridge progress\n",
              "if (typeof showDebug === 'undefined') {\n",
              "    showDebug = false\n",
              "}\n",
              "if (showDebug) {\n",
              "    alert(\"Starting Jupyter-bridge browser component\")\n",
              "}\n",
              "\n",
              "//const JupyterBridge = 'http://127.0.0.1:5000' // for testing against local Jupyter-bridge\n",
              "var JupyterBridge; // URL of Jupyter-bridge server could be defined by assignment pre-pended to this file\n",
              "if (typeof JupyterBridge === 'undefined') {\n",
              "    JupyterBridge = 'https://jupyter-bridge.cytoscape.org' // for production\n",
              "}\n",
              "var Channel; // Unique constant that could be defined by assignment pre-pended to this file\n",
              "if (typeof Channel === 'undefined') { // ... but if not assigned, use a debugging value\n",
              "    Channel = 1\n",
              "}\n",
              "\n",
              "\n",
              "var httpR = new XMLHttpRequest(); // for sending reply to Jupyter-bridge\n",
              "var httpRE = new XMLHttpRequest(); // for sending backup error reply to Jupyter-bridge\n",
              "var httpC = new XMLHttpRequest(); // for sending command to Cytoscape\n",
              "var httpJ = new XMLHttpRequest(); // for fetching request from Jupyter-bridge\n",
              "\n",
              "const HTTP_OK = 200\n",
              "const HTTP_SYS_ERR = 500\n",
              "const HTTP_TIMEOUT = 408\n",
              "const HTTP_TOO_MANY = 429\n",
              "\n",
              "\n",
              " /* This function is useful if we want to rewrite the incoming URL to resolve just to our local one.\n",
              "    Doing this stops the Jupyter component from abusing this client to call out to endpoints other\n",
              "    than local Cytoscape. On the other hand, it makes it hard to detect when the Jupyter component\n",
              "    has specified a genuinely bad URL and really should get an error result. For now, we'll execute\n",
              "    the Jupyter-supplied URL and return the result, whatever it may be.\n",
              "\n",
              "const LocalCytoscape = 'http://127.0.0.1:1234'\n",
              "\n",
              "function parseURL(url) {\n",
              "    var reURLInformation = new RegExp([\n",
              "        '^(https?:)//', // protocol\n",
              "        '(([^:/?#]*)(?::([0-9]+))?)', // host (hostname and port)\n",
              "        '(/{0,1}[^?#]*)', // pathname\n",
              "        '(\\\\?[^#]*|)', // search\n",
              "        '(#.*|)$' // hash\n",
              "    ].join(''));\n",
              "    var match = url.match(reURLInformation);\n",
              "    return match && {\n",
              "        url: url,\n",
              "        protocol: match[1],\n",
              "        host: match[2],\n",
              "        hostname: match[3],\n",
              "        port: match[4],\n",
              "        pathname: match[5],\n",
              "        search: match[6],\n",
              "        hash: match[7]\n",
              "    }\n",
              "}\n",
              "*/\n",
              "\n",
              "function replyCytoscape(replyStatus, replyStatusText, replyText) {\n",
              "\n",
              "    // Clean up after Jupyter bridge accepts reply\n",
              "    httpR.onreadystatechange = function() {\n",
              "        if (httpR.readyState === 4) {\n",
              "            if (showDebug) {\n",
              "                console.log(' status from queue_reply: ' + httpR.status + ', reply: ' + httpR.responseText)\n",
              "            }\n",
              "        }\n",
              "    }\n",
              "\n",
              "    httpR.onerror = function() {\n",
              "        // Clean up after Jupyter bridge accepts backup reply\n",
              "        httpRE.onreadystatechange = function() {\n",
              "            if (httpRE.readyState === 4) {\n",
              "                if (showDebug) {\n",
              "                    console.log(' status from backup queue_reply: ' + httpRE.status + ', reply: ' + httpRE.responseText)\n",
              "                }\n",
              "            }\n",
              "        }\n",
              "\n",
              "        if (showDebug) {\n",
              "            console.log(' error from queue_reply -- could be Jupyter-Bridge server reject')\n",
              "        }\n",
              "        var errReply = {'status': HTTP_SYS_ERR, 'reason': 'Jupyter-Bridge rejected reply', 'text': 'Possibly reply is too long for Jupyter-Bridge server'}\n",
              "        httpRE.open('POST', jupyterBridgeURL, true)\n",
              "        httpRE.setRequestHeader('Content-Type', 'text/plain')\n",
              "        httpRE.send(JSON.stringify(errReply))\n",
              "    }\n",
              "\n",
              "    var reply = {'status': replyStatus, 'reason': replyStatusText, 'text': replyText}\n",
              "\n",
              "    // Send reply to Jupyter bridge\n",
              "    var jupyterBridgeURL = JupyterBridge + '/queue_reply?channel=' + Channel\n",
              "    if (showDebug) {\n",
              "        console.log('Starting queue to Jupyter bridge: ' + jupyterBridgeURL)\n",
              "    }\n",
              "    httpR.open('POST', jupyterBridgeURL, true)\n",
              "    httpR.setRequestHeader('Content-Type', 'text/plain')\n",
              "    httpR.send(JSON.stringify(reply))\n",
              "}\n",
              "\n",
              "function callCytoscape(callSpec) {\n",
              "\n",
              "    // Captures Cytoscape reply and sends it on\n",
              "    httpC.onreadystatechange = function() {\n",
              "        if (httpC.readyState === 4) {\n",
              "            if (showDebug) {\n",
              "                console.log(' status from CyREST: ' + httpC.status + ', statusText: ' + httpC.statusText + ', reply: ' + httpC.responseText)\n",
              "            }\n",
              "            // Note that httpC.status is 0 if the URL can't be reached *OR* there is a CORS violation.\n",
              "            // I wish I could tell the difference because for a CORS violation, I'd return a 404,\n",
              "            // which would roughly match what Python's native request package would return.\n",
              "            // The practical consequence is that the ultimate caller (e.g., py4cytoscape)\n",
              "            // returns different exceptions, depending on wither this module is doing the\n",
              "            // HTTP operation or the native Python requests package is. This is minor, but\n",
              "            // messes up tests that verify the exception type.\n",
              "            replyCytoscape(httpC.status, httpC.statusText, httpC.responseText)\n",
              "            waitOnJupyterBridge()\n",
              "        }\n",
              "    }\n",
              "\n",
              "//  Build up request to Cytoscape, making sure host is local.\n",
              "//    Too heavy handed: localURL = LocalCytoscape + parseURL(callSpec.url).pathname\n",
              "    var localURL = callSpec.url // Try using what was passed in ... is there a security risk??\n",
              "\n",
              "    if (showDebug) {\n",
              "        console.log('Command to CyREST: ' + callSpec.command + ' (' + localURL + ')')\n",
              "        if (callSpec.params) {\n",
              "            console.log(' params: ' + JSON.stringify(callSpec.params))\n",
              "        }\n",
              "        if (callSpec.headers) {\n",
              "            console.log(' header: ' + JSON.stringify(callSpec.headers))\n",
              "        }\n",
              "        if (callSpec.data) {\n",
              "            console.log('   data: ' + JSON.stringify(callSpec.data))\n",
              "        }\n",
              "    }\n",
              "\n",
              "    if (callSpec.command === 'webbrowser') {\n",
              "        if (window.open(callSpec.url)) {\n",
              "            replyCytoscape(HTTP_OK, 'OK', '')\n",
              "        } else {\n",
              "            replyCytoscape(HTTP_SYS_ERR, 'BAD BROWSER OPEN', '')\n",
              "        }\n",
              "        waitOnJupyterBridge()\n",
              "    } else if (callSpec.command === 'version') {\n",
              "        replyCytoscape(HTTP_OK, 'OK',\n",
              "            JSON.stringify({\"jupyterBridgeVersion\": VERSION}))\n",
              "        waitOnJupyterBridge()\n",
              "    } else {\n",
              "        var joiner = '?'\n",
              "        for (let param in callSpec.params) {\n",
              "            localURL = localURL + joiner + param + '=' + encodeURIComponent(callSpec.params[param])\n",
              "            joiner = '&'\n",
              "        }\n",
              "\n",
              "        httpC.open(callSpec.command, localURL, true)\n",
              "        for (let header in callSpec.headers) {\n",
              "            httpC.setRequestHeader(header, callSpec.headers[header])\n",
              "        }\n",
              "\n",
              "        // Send request to Cytoscape ... reply goes to onreadystatechange handler\n",
              "        httpC.send(JSON.stringify(callSpec.data))\n",
              "    }\n",
              "}\n",
              "\n",
              "function waitOnJupyterBridge() {\n",
              "\n",
              "    // Captures request from Jupyter bridge\n",
              "    httpJ.onreadystatechange = function() {\n",
              "        if (httpJ.readyState === 4) {\n",
              "            if (showDebug) {\n",
              "                console.log(' status from dequeue_request: ' + httpJ.status + ', reply: ' + httpJ.responseText)\n",
              "            }\n",
              "            try {\n",
              "                if (httpJ.status == HTTP_TOO_MANY) {\n",
              "                    // Nothing more to do ... the browser has created too many listeners,\n",
              "                    // and it's time to stop listening because the server saw a listener\n",
              "                    // listening on this channel before we got there.\n",
              "                    console.log('  shutting down because of redundant reader on channel: ' + Channel)\n",
              "                } else {\n",
              "                    if (httpJ.status === HTTP_TIMEOUT) {\n",
              "                        waitOnJupyterBridge()\n",
              "                    } else {\n",
              "                        callCytoscape(JSON.parse(httpJ.responseText))\n",
              "                    }\n",
              "                }\n",
              "            } catch(err) {\n",
              "                if (showDebug) {\n",
              "                    console.log(' exception calling Cytoscape: ' + err)\n",
              "                }\n",
              "                // Bad responseText means something bad happened that we don't understand.\n",
              "                // Go wait on another request, as there's nothing to call Cytoscape with.\n",
              "                waitOnJupyterBridge()\n",
              "            }\n",
              "        }\n",
              "    }\n",
              "\n",
              "    // Wait for request from Jupyter bridge\n",
              "    var jupyterBridgeURL = JupyterBridge + '/dequeue_request?channel=' + Channel\n",
              "    if (showDebug) {\n",
              "        console.log('Starting dequeue on Jupyter bridge: ' + jupyterBridgeURL)\n",
              "    }\n",
              "    httpJ.open('GET', jupyterBridgeURL, true)\n",
              "    httpJ.send()\n",
              "}\n",
              "\n",
              "// This kicks off a loop that ends by calling waitOnJupyterBridge again. This first call\n",
              "// ejects any dead readers before we start a read\n",
              "waitOnJupyterBridge() // Wait for message from Jupyter bridge, execute it, and return reply\n",
              "\n",
              "if (showDebug) {\n",
              "    alert(\"Jupyter-bridge browser component is started on \" + JupyterBridge + ', channel ' + Channel)\n",
              "}\n"
            ]
          },
          "metadata": {},
          "execution_count": 1
        }
      ],
      "source": [
        "#_PY4CYTOSCAPE = 'git+https://github.com/cytoscape/py4cytoscape@1.7.0' # optional\n",
        "import requests\n",
        "exec(requests.get(\"https://raw.githubusercontent.com/cytoscape/jupyter-bridge/master/client/p4c_init.py\").text)\n",
        "IPython.display.Javascript(_PY4CYTOSCAPE_BROWSER_CLIENT_JS) # Start browser client"
      ],
      "id": "Tc_6JroifDWF"
    },
    {
      "cell_type": "markdown",
      "metadata": {
        "id": "uuy_yKBIfDWG"
      },
      "source": [
        "## Getting started\n",
        "**NOTE: To run this notebook, you must manually start Cytoscape first – don’t proceed until you have started Cytoscape.**\n",
        "\n",
        "First, confirm that you have everything installed and running:"
      ],
      "id": "uuy_yKBIfDWG"
    },
    {
      "cell_type": "code",
      "execution_count": 2,
      "metadata": {
        "id": "NsjRdJnRfDWG",
        "outputId": "12909320-f236-4cdd-fa4f-0ef131f68ba9",
        "colab": {
          "base_uri": "https://localhost:8080/"
        }
      },
      "outputs": [
        {
          "output_type": "stream",
          "name": "stdout",
          "text": [
            "You are connected to Cytoscape!\n"
          ]
        },
        {
          "output_type": "execute_result",
          "data": {
            "text/plain": [
              "{'apiVersion': 'v1',\n",
              " 'cytoscapeVersion': '3.10.2',\n",
              " 'automationAPIVersion': '1.11.0',\n",
              " 'py4cytoscapeVersion': '1.11.0',\n",
              " 'jupyterBridgeVersion': '0.0.2'}"
            ]
          },
          "metadata": {},
          "execution_count": 2
        }
      ],
      "source": [
        "import py4cytoscape as p4c\n",
        "p4c.cytoscape_ping()\n",
        "p4c.cytoscape_version_info()"
      ],
      "id": "NsjRdJnRfDWG"
    },
    {
      "cell_type": "markdown",
      "metadata": {
        "id": "wODydlo3fDWH"
      },
      "source": [
        "## My first network\n",
        "\n",
        "Let’s create a Cytoscape network from some basic Python objects"
      ],
      "id": "wODydlo3fDWH"
    },
    {
      "cell_type": "code",
      "execution_count": 3,
      "metadata": {
        "id": "qx6UR7qmfDWH",
        "outputId": "75b0fa51-cc6b-4ded-f658-bd5a5c3edb8a",
        "colab": {
          "base_uri": "https://localhost:8080/"
        }
      },
      "outputs": [
        {
          "output_type": "stream",
          "name": "stdout",
          "text": [
            "Applying default style...\n",
            "Applying preferred layout\n"
          ]
        },
        {
          "output_type": "execute_result",
          "data": {
            "text/plain": [
              "128"
            ]
          },
          "metadata": {},
          "execution_count": 3
        }
      ],
      "source": [
        "import pandas as pd\n",
        "nodes = pd.DataFrame(data={'id': [\"node 0\",\"node 1\",\"node 2\",\"node 3\"], 'group': [\"A\",\"A\",\"B\",\"B\"], 'score': [20,10,15,5]})\n",
        "edges = pd.DataFrame(data={'source': [\"node 0\",\"node 0\",\"node 0\",\"node 2\"], 'target': [\"node 1\",\"node 2\",\"node 3\",\"node 3\"], 'interaction': [\"inhibits\",\"interacts\",\"activates\",\"interacts\"], 'weight': [5.1,3.0,5.2,9.9]})\n",
        "\n",
        "p4c.create_network_from_data_frames(nodes, edges, title=\"my first network\", collection=\"DataFrame Example\")"
      ],
      "id": "qx6UR7qmfDWH"
    },
    {
      "cell_type": "code",
      "execution_count": 4,
      "metadata": {
        "id": "ia4WBUM_fDWH",
        "outputId": "e2a78b7f-7dfa-4783-e9fc-342738560eea",
        "colab": {
          "base_uri": "https://localhost:8080/",
          "height": 394
        }
      },
      "outputs": [
        {
          "output_type": "execute_result",
          "data": {
            "image/png": "[encoded data removed]",
            "text/plain": [
              "<IPython.core.display.Image object>"
            ]
          },
          "metadata": {},
          "execution_count": 4
        }
      ],
      "source": [
        "p4c.notebook_export_show_image()"
      ],
      "id": "ia4WBUM_fDWH"
    },
    {
      "cell_type": "markdown",
      "metadata": {
        "id": "EupGOUHyfDWH"
      },
      "source": [
        "### Switch styles\n",
        "\n",
        "Check out the marquee style!"
      ],
      "id": "EupGOUHyfDWH"
    },
    {
      "cell_type": "code",
      "execution_count": 5,
      "metadata": {
        "id": "yZ1OMoLRfDWI",
        "outputId": "b79bf51b-9556-47fc-ecaa-76dca54a30b4",
        "colab": {
          "base_uri": "https://localhost:8080/"
        }
      },
      "outputs": [
        {
          "output_type": "execute_result",
          "data": {
            "text/plain": [
              "{'message': 'Visual Style applied.'}"
            ]
          },
          "metadata": {},
          "execution_count": 5
        }
      ],
      "source": [
        "p4c.set_visual_style('Marquee')"
      ],
      "id": "yZ1OMoLRfDWI"
    },
    {
      "cell_type": "code",
      "execution_count": 6,
      "metadata": {
        "id": "jnf8CiEdfDWI",
        "outputId": "32626493-b9d4-4ad3-91d2-f702e0800176",
        "colab": {
          "base_uri": "https://localhost:8080/",
          "height": 394
        }
      },
      "outputs": [
        {
          "output_type": "execute_result",
          "data": {
            "image/png": "[encoded data removed]",
            "text/plain": [
              "<IPython.core.display.Image object>"
            ]
          },
          "metadata": {},
          "execution_count": 6
        }
      ],
      "source": [
        "p4c.notebook_export_show_image()"
      ],
      "id": "jnf8CiEdfDWI"
    },
    {
      "cell_type": "markdown",
      "metadata": {
        "id": "tabK01C-fDWI"
      },
      "source": [
        "### My own style\n",
        "\n",
        "Create your own style with node attribute fill mappings and some defaults"
      ],
      "id": "tabK01C-fDWI"
    },
    {
      "cell_type": "code",
      "execution_count": 7,
      "metadata": {
        "id": "evlvUuQWfDWI",
        "outputId": "97678147-0524-4a8b-cf45-db077f3a2ae9",
        "colab": {
          "base_uri": "https://localhost:8080/"
        }
      },
      "outputs": [
        {
          "output_type": "execute_result",
          "data": {
            "text/plain": [
              "{'message': 'Visual Style applied.'}"
            ]
          },
          "metadata": {},
          "execution_count": 7
        }
      ],
      "source": [
        "style_name = \"myStyle\"\n",
        "defaults = {'NODE_SHAPE': \"diamond\", 'NODE_SIZE': 30, 'EDGE_TRANSPARENCY': 120, 'NODE_LABEL_POSITION': \"W,E,c,0.00,0.00\"}\n",
        "nodeLabels = p4c.map_visual_property('node label', 'id', 'p') #'p' means 'passthrough' mapping\n",
        "edgeWidth = p4c.map_visual_property('edge width', 'weight', 'p') #'p' means 'passthrough' mapping\n",
        "p4c.create_visual_style(style_name, defaults, [nodeLabels, edgeWidth])\n",
        "p4c.set_visual_style(style_name)"
      ],
      "id": "evlvUuQWfDWI"
    },
    {
      "cell_type": "code",
      "execution_count": 8,
      "metadata": {
        "id": "JO50F05DfDWI",
        "outputId": "d135499e-ad99-423d-f613-296a7f5154ae",
        "colab": {
          "base_uri": "https://localhost:8080/",
          "height": 394
        }
      },
      "outputs": [
        {
          "output_type": "execute_result",
          "data": {
            "image/png": "[encoded data removed]",
            "text/plain": [
              "<IPython.core.display.Image object>"
            ]
          },
          "metadata": {},
          "execution_count": 8
        }
      ],
      "source": [
        "p4c.notebook_export_show_image()"
      ],
      "id": "JO50F05DfDWI"
    },
    {
      "cell_type": "markdown",
      "metadata": {
        "id": "Cbho7gAZfDWJ"
      },
      "source": [
        "py4cytoscape has the value generator functions.\n",
        "This makes it easy to automatically associate colors or multiple values with node (or edge) attribute values."
      ],
      "id": "Cbho7gAZfDWJ"
    },
    {
      "cell_type": "code",
      "execution_count": 9,
      "metadata": {
        "id": "Z9R_b21RfDWJ",
        "outputId": "49aaaa3f-1f18-4d23-8907-47f3aadf00bd",
        "colab": {
          "base_uri": "https://localhost:8080/",
          "height": 36
        }
      },
      "outputs": [
        {
          "output_type": "execute_result",
          "data": {
            "text/plain": [
              "''"
            ],
            "application/vnd.google.colaboratory.intrinsic+json": {
              "type": "string"
            }
          },
          "metadata": {},
          "execution_count": 9
        }
      ],
      "source": [
        "from py4cytoscape import gen_node_color_map\n",
        "from py4cytoscape import gen_edge_arrow_map\n",
        "p4c.set_node_color_mapping(**gen_node_color_map('group', mapping_type='d', style_name=style_name)) #'d' means 'discrete' mapping\n",
        "p4c.set_edge_target_arrow_shape_mapping(**gen_edge_arrow_map('interaction', style_name=style_name))"
      ],
      "id": "Z9R_b21RfDWJ"
    },
    {
      "cell_type": "code",
      "execution_count": 10,
      "metadata": {
        "id": "UP1rVNKbfDWJ",
        "outputId": "9b6d3cb3-f4b8-458a-ed9f-4e5dc5d4b43e",
        "colab": {
          "base_uri": "https://localhost:8080/",
          "height": 394
        }
      },
      "outputs": [
        {
          "output_type": "execute_result",
          "data": {
            "image/png": "[encoded data removed]",
            "text/plain": [
              "<IPython.core.display.Image object>"
            ]
          },
          "metadata": {},
          "execution_count": 10
        }
      ],
      "source": [
        "p4c.notebook_export_show_image()"
      ],
      "id": "UP1rVNKbfDWJ"
    },
    {
      "cell_type": "markdown",
      "metadata": {
        "id": "M9CMgvj2fDWJ"
      },
      "source": [
        "*Pro-tip: if you want to set NODE_WIDTH and NODE_HEIGHT independently, you also need to unlock the node dimensions with…*"
      ],
      "id": "M9CMgvj2fDWJ"
    },
    {
      "cell_type": "code",
      "execution_count": 11,
      "metadata": {
        "id": "GU-bKCN8fDWJ",
        "outputId": "16162442-8019-46ac-c300-40aa80959ead",
        "colab": {
          "base_uri": "https://localhost:8080/"
        }
      },
      "outputs": [
        {
          "output_type": "execute_result",
          "data": {
            "text/plain": [
              "{'views': [220]}"
            ]
          },
          "metadata": {},
          "execution_count": 11
        }
      ],
      "source": [
        "p4c.lock_node_dimensions(False, style_name)"
      ],
      "id": "GU-bKCN8fDWJ"
    },
    {
      "cell_type": "code",
      "execution_count": 12,
      "metadata": {
        "id": "gcj2v2LpfDWJ",
        "outputId": "8e24fcdd-f507-433b-83f8-7934470f8831",
        "colab": {
          "base_uri": "https://localhost:8080/",
          "height": 394
        }
      },
      "outputs": [
        {
          "output_type": "execute_result",
          "data": {
            "image/png": "[encoded data removed]",
            "text/plain": [
              "<IPython.core.display.Image object>"
            ]
          },
          "metadata": {},
          "execution_count": 12
        }
      ],
      "source": [
        "p4c.notebook_export_show_image()"
      ],
      "id": "gcj2v2LpfDWJ"
    },
    {
      "cell_type": "markdown",
      "metadata": {
        "id": "R9FeXfVSfDWJ"
      },
      "source": [
        "## Biological graph example\n",
        "\n",
        "Here we create a 4-node graph in Python, send it to Cytoscape for display and layout. For the sake of simplicity, no node attributes and no visual styles are included; those topics are covered in subsequent steps."
      ],
      "id": "R9FeXfVSfDWJ"
    },
    {
      "cell_type": "code",
      "execution_count": 13,
      "metadata": {
        "id": "aX5AcrKkfDWJ",
        "outputId": "b93c7b56-1935-454e-846f-0560c3b02934",
        "colab": {
          "base_uri": "https://localhost:8080/"
        }
      },
      "outputs": [
        {
          "output_type": "stream",
          "name": "stdout",
          "text": [
            "Applying default style...\n",
            "Applying preferred layout\n"
          ]
        },
        {
          "output_type": "execute_result",
          "data": {
            "text/plain": [
              "289"
            ]
          },
          "metadata": {},
          "execution_count": 13
        }
      ],
      "source": [
        "nodes = pd.DataFrame(data={'id': [\"A\", \"B\", \"C\", \"D\"]})\n",
        "edges = pd.DataFrame(data={'source': [\"C\", \"B\", \"B\", \"B\"], 'target': [\"D\", \"A\", \"D\", \"C\"]})\n",
        "\n",
        "p4c.create_network_from_data_frames(nodes, edges, title=\"simple network\", collection=\"Biological Example\")"
      ],
      "id": "aX5AcrKkfDWJ"
    },
    {
      "cell_type": "code",
      "execution_count": 14,
      "metadata": {
        "id": "AKIngzRGfDWJ",
        "outputId": "467a5249-b473-4b20-ef36-2e8c27c8ec7a",
        "colab": {
          "base_uri": "https://localhost:8080/",
          "height": 394
        }
      },
      "outputs": [
        {
          "output_type": "execute_result",
          "data": {
            "image/png": "[encoded data removed]",
            "text/plain": [
              "<IPython.core.display.Image object>"
            ]
          },
          "metadata": {},
          "execution_count": 14
        }
      ],
      "source": [
        "p4c.notebook_export_show_image()"
      ],
      "id": "AKIngzRGfDWJ"
    },
    {
      "cell_type": "markdown",
      "metadata": {
        "id": "ucc-X376fDWK"
      },
      "source": [
        "You should now have the structure of this 4-node graph with a basic, default style. Fortunately, Cytoscape has some built-in rendering rules in which (and unless instructed otherwise) nodes and edges are rendered and a default (user-preference) layout algorithm is applied.\n",
        "\n",
        "### Add node attributes\n",
        "\n",
        "We often know quite a lot about the nodes and edges in our graphs. By conveying this information visually, the graph will be easier to explore. For instance, we may know that protein A phosphorylates protein B, that A is a kinase and B a transcription factor, and that their mRNA expression (compared to a control) is a log2 fold change of 1.8 and 3.2 respectively. One of the core features of Cytoscape is visual styles, which allow you to specify how data values (e.g., kinase,transcription factor; expression ratios) should be conveyed in the visual properties of the graph (e.g., node shape, node color or size).\n",
        "\n",
        "We continue with the simple 4-node graph, adding two kinds data values (moleculeType and log2fc). The easiest way to do this is via pandas DataFrame s. However, you can also include attributes together with the original graph models as igraph s or pandas DataFrame s and then use the provided create functions to create and load in a single step (see *p4c.create_network_from_igraph() and p4c.create_network_from_data_frames()* functions). Check out the other Notebooks for more examples.\n"
      ],
      "id": "ucc-X376fDWK"
    },
    {
      "cell_type": "code",
      "execution_count": 15,
      "metadata": {
        "id": "vCtQ2CgjfDWK",
        "outputId": "ef5ffa55-7ba2-41ce-ea0b-78e86c2eac55",
        "colab": {
          "base_uri": "https://localhost:8080/",
          "height": 175
        }
      },
      "outputs": [
        {
          "output_type": "execute_result",
          "data": {
            "text/plain": [
              "     SUID shared name name  selected id\n",
              "316   316           A    A     False  A\n",
              "323   323           B    B     False  B\n",
              "326   326           C    C     False  C\n",
              "329   329           D    D     False  D"
            ],
            "text/html": [
              "\n",
              "  <div id=\"df-708f7a76-7339-45a0-9849-7b77d8b66886\" class=\"colab-df-container\">\n",
              "    <div>\n",
              "<style scoped>\n",
              "    .dataframe tbody tr th:only-of-type {\n",
              "        vertical-align: middle;\n",
              "    }\n",
              "\n",
              "    .dataframe tbody tr th {\n",
              "        vertical-align: top;\n",
              "    }\n",
              "\n",
              "    .dataframe thead th {\n",
              "        text-align: right;\n",
              "    }\n",
              "</style>\n",
              "<table border=\"1\" class=\"dataframe\">\n",
              "  <thead>\n",
              "    <tr style=\"text-align: right;\">\n",
              "      <th></th>\n",
              "      <th>SUID</th>\n",
              "      <th>shared name</th>\n",
              "      <th>name</th>\n",
              "      <th>selected</th>\n",
              "      <th>id</th>\n",
              "    </tr>\n",
              "  </thead>\n",
              "  <tbody>\n",
              "    <tr>\n",
              "      <th>316</th>\n",
              "      <td>316</td>\n",
              "      <td>A</td>\n",
              "      <td>A</td>\n",
              "      <td>False</td>\n",
              "      <td>A</td>\n",
              "    </tr>\n",
              "    <tr>\n",
              "      <th>323</th>\n",
              "      <td>323</td>\n",
              "      <td>B</td>\n",
              "      <td>B</td>\n",
              "      <td>False</td>\n",
              "      <td>B</td>\n",
              "    </tr>\n",
              "    <tr>\n",
              "      <th>326</th>\n",
              "      <td>326</td>\n",
              "      <td>C</td>\n",
              "      <td>C</td>\n",
              "      <td>False</td>\n",
              "      <td>C</td>\n",
              "    </tr>\n",
              "    <tr>\n",
              "      <th>329</th>\n",
              "      <td>329</td>\n",
              "      <td>D</td>\n",
              "      <td>D</td>\n",
              "      <td>False</td>\n",
              "      <td>D</td>\n",
              "    </tr>\n",
              "  </tbody>\n",
              "</table>\n",
              "</div>\n",
              "    <div class=\"colab-df-buttons\">\n",
              "\n",
              "  <div class=\"colab-df-container\">\n",
              "    <button class=\"colab-df-convert\" onclick=\"convertToInteractive('df-708f7a76-7339-45a0-9849-7b77d8b66886')\"\n",
              "            title=\"Convert this dataframe to an interactive table.\"\n",
              "            style=\"display:none;\">\n",
              "\n",
              "  <svg xmlns=\"http://www.w3.org/2000/svg\" height=\"24px\" viewBox=\"0 -960 960 960\">\n",
              "    <path d=\"M120-120v-720h720v720H120Zm60-500h600v-160H180v160Zm220 220h160v-160H400v160Zm0 220h160v-160H400v160ZM180-400h160v-160H180v160Zm440 0h160v-160H620v160ZM180-180h160v-160H180v160Zm440 0h160v-160H620v160Z\"/>\n",
              "  </svg>\n",
              "    </button>\n",
              "\n",
              "  <style>\n",
              "    .colab-df-container {\n",
              "      display:flex;\n",
              "      gap: 12px;\n",
              "    }\n",
              "\n",
              "    .colab-df-convert {\n",
              "      background-color: #E8F0FE;\n",
              "      border: none;\n",
              "      border-radius: 50%;\n",
              "      cursor: pointer;\n",
              "      display: none;\n",
              "      fill: #1967D2;\n",
              "      height: 32px;\n",
              "      padding: 0 0 0 0;\n",
              "      width: 32px;\n",
              "    }\n",
              "\n",
              "    .colab-df-convert:hover {\n",
              "      background-color: #E2EBFA;\n",
              "      box-shadow: 0px 1px 2px rgba(60, 64, 67, 0.3), 0px 1px 3px 1px rgba(60, 64, 67, 0.15);\n",
              "      fill: #174EA6;\n",
              "    }\n",
              "\n",
              "    .colab-df-buttons div {\n",
              "      margin-bottom: 4px;\n",
              "    }\n",
              "\n",
              "    [theme=dark] .colab-df-convert {\n",
              "      background-color: #3B4455;\n",
              "      fill: #D2E3FC;\n",
              "    }\n",
              "\n",
              "    [theme=dark] .colab-df-convert:hover {\n",
              "      background-color: #434B5C;\n",
              "      box-shadow: 0px 1px 3px 1px rgba(0, 0, 0, 0.15);\n",
              "      filter: drop-shadow(0px 1px 2px rgba(0, 0, 0, 0.3));\n",
              "      fill: #FFFFFF;\n",
              "    }\n",
              "  </style>\n",
              "\n",
              "    <script>\n",
              "      const buttonEl =\n",
              "        document.querySelector('#df-708f7a76-7339-45a0-9849-7b77d8b66886 button.colab-df-convert');\n",
              "      buttonEl.style.display =\n",
              "        google.colab.kernel.accessAllowed ? 'block' : 'none';\n",
              "\n",
              "      async function convertToInteractive(key) {\n",
              "        const element = document.querySelector('#df-708f7a76-7339-45a0-9849-7b77d8b66886');\n",
              "        const dataTable =\n",
              "          await google.colab.kernel.invokeFunction('convertToInteractive',\n",
              "                                                    [key], {});\n",
              "        if (!dataTable) return;\n",
              "\n",
              "        const docLinkHtml = 'Like what you see? Visit the ' +\n",
              "          '<a target=\"_blank\" href=https://colab.research.google.com/notebooks/data_table.ipynb>data table notebook</a>'\n",
              "          + ' to learn more about interactive tables.';\n",
              "        element.innerHTML = '';\n",
              "        dataTable['output_type'] = 'display_data';\n",
              "        await google.colab.output.renderOutput(dataTable, element);\n",
              "        const docLink = document.createElement('div');\n",
              "        docLink.innerHTML = docLinkHtml;\n",
              "        element.appendChild(docLink);\n",
              "      }\n",
              "    </script>\n",
              "  </div>\n",
              "\n",
              "\n",
              "<div id=\"df-1764c86a-f543-4f35-bc81-b44d93c45420\">\n",
              "  <button class=\"colab-df-quickchart\" onclick=\"quickchart('df-1764c86a-f543-4f35-bc81-b44d93c45420')\"\n",
              "            title=\"Suggest charts\"\n",
              "            style=\"display:none;\">\n",
              "\n",
              "<svg xmlns=\"http://www.w3.org/2000/svg\" height=\"24px\"viewBox=\"0 0 24 24\"\n",
              "     width=\"24px\">\n",
              "    <g>\n",
              "        <path d=\"M19 3H5c-1.1 0-2 .9-2 2v14c0 1.1.9 2 2 2h14c1.1 0 2-.9 2-2V5c0-1.1-.9-2-2-2zM9 17H7v-7h2v7zm4 0h-2V7h2v10zm4 0h-2v-4h2v4z\"/>\n",
              "    </g>\n",
              "</svg>\n",
              "  </button>\n",
              "\n",
              "<style>\n",
              "  .colab-df-quickchart {\n",
              "      --bg-color: #E8F0FE;\n",
              "      --fill-color: #1967D2;\n",
              "      --hover-bg-color: #E2EBFA;\n",
              "      --hover-fill-color: #174EA6;\n",
              "      --disabled-fill-color: #AAA;\n",
              "      --disabled-bg-color: #DDD;\n",
              "  }\n",
              "\n",
              "  [theme=dark] .colab-df-quickchart {\n",
              "      --bg-color: #3B4455;\n",
              "      --fill-color: #D2E3FC;\n",
              "      --hover-bg-color: #434B5C;\n",
              "      --hover-fill-color: #FFFFFF;\n",
              "      --disabled-bg-color: #3B4455;\n",
              "      --disabled-fill-color: #666;\n",
              "  }\n",
              "\n",
              "  .colab-df-quickchart {\n",
              "    background-color: var(--bg-color);\n",
              "    border: none;\n",
              "    border-radius: 50%;\n",
              "    cursor: pointer;\n",
              "    display: none;\n",
              "    fill: var(--fill-color);\n",
              "    height: 32px;\n",
              "    padding: 0;\n",
              "    width: 32px;\n",
              "  }\n",
              "\n",
              "  .colab-df-quickchart:hover {\n",
              "    background-color: var(--hover-bg-color);\n",
              "    box-shadow: 0 1px 2px rgba(60, 64, 67, 0.3), 0 1px 3px 1px rgba(60, 64, 67, 0.15);\n",
              "    fill: var(--button-hover-fill-color);\n",
              "  }\n",
              "\n",
              "  .colab-df-quickchart-complete:disabled,\n",
              "  .colab-df-quickchart-complete:disabled:hover {\n",
              "    background-color: var(--disabled-bg-color);\n",
              "    fill: var(--disabled-fill-color);\n",
              "    box-shadow: none;\n",
              "  }\n",
              "\n",
              "  .colab-df-spinner {\n",
              "    border: 2px solid var(--fill-color);\n",
              "    border-color: transparent;\n",
              "    border-bottom-color: var(--fill-color);\n",
              "    animation:\n",
              "      spin 1s steps(1) infinite;\n",
              "  }\n",
              "\n",
              "  @keyframes spin {\n",
              "    0% {\n",
              "      border-color: transparent;\n",
              "      border-bottom-color: var(--fill-color);\n",
              "      border-left-color: var(--fill-color);\n",
              "    }\n",
              "    20% {\n",
              "      border-color: transparent;\n",
              "      border-left-color: var(--fill-color);\n",
              "      border-top-color: var(--fill-color);\n",
              "    }\n",
              "    30% {\n",
              "      border-color: transparent;\n",
              "      border-left-color: var(--fill-color);\n",
              "      border-top-color: var(--fill-color);\n",
              "      border-right-color: var(--fill-color);\n",
              "    }\n",
              "    40% {\n",
              "      border-color: transparent;\n",
              "      border-right-color: var(--fill-color);\n",
              "      border-top-color: var(--fill-color);\n",
              "    }\n",
              "    60% {\n",
              "      border-color: transparent;\n",
              "      border-right-color: var(--fill-color);\n",
              "    }\n",
              "    80% {\n",
              "      border-color: transparent;\n",
              "      border-right-color: var(--fill-color);\n",
              "      border-bottom-color: var(--fill-color);\n",
              "    }\n",
              "    90% {\n",
              "      border-color: transparent;\n",
              "      border-bottom-color: var(--fill-color);\n",
              "    }\n",
              "  }\n",
              "</style>\n",
              "\n",
              "  <script>\n",
              "    async function quickchart(key) {\n",
              "      const quickchartButtonEl =\n",
              "        document.querySelector('#' + key + ' button');\n",
              "      quickchartButtonEl.disabled = true;  // To prevent multiple clicks.\n",
              "      quickchartButtonEl.classList.add('colab-df-spinner');\n",
              "      try {\n",
              "        const charts = await google.colab.kernel.invokeFunction(\n",
              "            'suggestCharts', [key], {});\n",
              "      } catch (error) {\n",
              "        console.error('Error during call to suggestCharts:', error);\n",
              "      }\n",
              "      quickchartButtonEl.classList.remove('colab-df-spinner');\n",
              "      quickchartButtonEl.classList.add('colab-df-quickchart-complete');\n",
              "    }\n",
              "    (() => {\n",
              "      let quickchartButtonEl =\n",
              "        document.querySelector('#df-1764c86a-f543-4f35-bc81-b44d93c45420 button');\n",
              "      quickchartButtonEl.style.display =\n",
              "        google.colab.kernel.accessAllowed ? 'block' : 'none';\n",
              "    })();\n",
              "  </script>\n",
              "</div>\n",
              "\n",
              "    </div>\n",
              "  </div>\n"
            ],
            "application/vnd.google.colaboratory.intrinsic+json": {
              "type": "dataframe",
              "summary": "{\n  \"name\": \"p4c\",\n  \"rows\": 4,\n  \"fields\": [\n    {\n      \"column\": \"SUID\",\n      \"properties\": {\n        \"dtype\": \"number\",\n        \"std\": 5,\n        \"min\": 316,\n        \"max\": 329,\n        \"num_unique_values\": 4,\n        \"samples\": [\n          323,\n          329,\n          316\n        ],\n        \"semantic_type\": \"\",\n        \"description\": \"\"\n      }\n    },\n    {\n      \"column\": \"shared name\",\n      \"properties\": {\n        \"dtype\": \"string\",\n        \"num_unique_values\": 4,\n        \"samples\": [\n          \"B\",\n          \"D\",\n          \"A\"\n        ],\n        \"semantic_type\": \"\",\n        \"description\": \"\"\n      }\n    },\n    {\n      \"column\": \"name\",\n      \"properties\": {\n        \"dtype\": \"string\",\n        \"num_unique_values\": 4,\n        \"samples\": [\n          \"B\",\n          \"D\",\n          \"A\"\n        ],\n        \"semantic_type\": \"\",\n        \"description\": \"\"\n      }\n    },\n    {\n      \"column\": \"selected\",\n      \"properties\": {\n        \"dtype\": \"boolean\",\n        \"num_unique_values\": 1,\n        \"samples\": [\n          false\n        ],\n        \"semantic_type\": \"\",\n        \"description\": \"\"\n      }\n    },\n    {\n      \"column\": \"id\",\n      \"properties\": {\n        \"dtype\": \"string\",\n        \"num_unique_values\": 4,\n        \"samples\": [\n          \"B\"\n        ],\n        \"semantic_type\": \"\",\n        \"description\": \"\"\n      }\n    }\n  ]\n}"
            }
          },
          "metadata": {},
          "execution_count": 15
        }
      ],
      "source": [
        "p4c.get_table_columns()"
      ],
      "id": "vCtQ2CgjfDWK"
    },
    {
      "cell_type": "code",
      "execution_count": null,
      "metadata": {
        "id": "YYL8z8ekfDWK",
        "outputId": "947a950f-649c-40b3-c8bd-fa83f2d9f620"
      },
      "outputs": [
        {
          "data": {
            "text/html": [
              "<div>\n",
              "<style scoped>\n",
              "    .dataframe tbody tr th:only-of-type {\n",
              "        vertical-align: middle;\n",
              "    }\n",
              "\n",
              "    .dataframe tbody tr th {\n",
              "        vertical-align: top;\n",
              "    }\n",
              "\n",
              "    .dataframe thead th {\n",
              "        text-align: right;\n",
              "    }\n",
              "</style>\n",
              "<table border=\"1\" class=\"dataframe\">\n",
              "  <thead>\n",
              "    <tr style=\"text-align: right;\">\n",
              "      <th></th>\n",
              "      <th>moleculeType</th>\n",
              "      <th>log2fc</th>\n",
              "    </tr>\n",
              "  </thead>\n",
              "  <tbody>\n",
              "    <tr>\n",
              "      <th>A</th>\n",
              "      <td>kinase</td>\n",
              "      <td>1.8</td>\n",
              "    </tr>\n",
              "    <tr>\n",
              "      <th>B</th>\n",
              "      <td>TF</td>\n",
              "      <td>3.0</td>\n",
              "    </tr>\n",
              "    <tr>\n",
              "      <th>C</th>\n",
              "      <td>cytokine</td>\n",
              "      <td>-1.2</td>\n",
              "    </tr>\n",
              "    <tr>\n",
              "      <th>D</th>\n",
              "      <td>cytokine</td>\n",
              "      <td>-2.5</td>\n",
              "    </tr>\n",
              "  </tbody>\n",
              "</table>\n",
              "</div>"
            ],
            "text/plain": [
              "  moleculeType  log2fc\n",
              "A       kinase     1.8\n",
              "B           TF     3.0\n",
              "C     cytokine    -1.2\n",
              "D     cytokine    -2.5"
            ]
          },
          "execution_count": 16,
          "metadata": {},
          "output_type": "execute_result"
        }
      ],
      "source": [
        "df = pd.DataFrame(data={'moleculeType': ['kinase','TF','cytokine','cytokine'], 'log2fc': [1.8,3.0,-1.2,-2.5]})\n",
        "df.index = ['A','B','C','D']\n",
        "df"
      ],
      "id": "YYL8z8ekfDWK"
    },
    {
      "cell_type": "code",
      "execution_count": null,
      "metadata": {
        "id": "HnxMOVXUfDWK",
        "outputId": "f99ef5ee-243c-4dd7-fbfb-ffec20473567"
      },
      "outputs": [
        {
          "data": {
            "text/plain": [
              "'Success: Data loaded in defaultnode table'"
            ]
          },
          "execution_count": 17,
          "metadata": {},
          "output_type": "execute_result"
        }
      ],
      "source": [
        "p4c.load_table_data(df)"
      ],
      "id": "HnxMOVXUfDWK"
    },
    {
      "cell_type": "code",
      "execution_count": null,
      "metadata": {
        "id": "A-la4JQlfDWK",
        "outputId": "8312ac7a-17a0-4578-cbb2-aae2bb1d984d"
      },
      "outputs": [
        {
          "data": {
            "text/html": [
              "<div>\n",
              "<style scoped>\n",
              "    .dataframe tbody tr th:only-of-type {\n",
              "        vertical-align: middle;\n",
              "    }\n",
              "\n",
              "    .dataframe tbody tr th {\n",
              "        vertical-align: top;\n",
              "    }\n",
              "\n",
              "    .dataframe thead th {\n",
              "        text-align: right;\n",
              "    }\n",
              "</style>\n",
              "<table border=\"1\" class=\"dataframe\">\n",
              "  <thead>\n",
              "    <tr style=\"text-align: right;\">\n",
              "      <th></th>\n",
              "      <th>SUID</th>\n",
              "      <th>shared name</th>\n",
              "      <th>name</th>\n",
              "      <th>selected</th>\n",
              "      <th>id</th>\n",
              "      <th>moleculeType</th>\n",
              "      <th>log2fc</th>\n",
              "      <th>row.names</th>\n",
              "    </tr>\n",
              "  </thead>\n",
              "  <tbody>\n",
              "    <tr>\n",
              "      <th>312</th>\n",
              "      <td>312</td>\n",
              "      <td>A</td>\n",
              "      <td>A</td>\n",
              "      <td>False</td>\n",
              "      <td>A</td>\n",
              "      <td>kinase</td>\n",
              "      <td>1.8</td>\n",
              "      <td>A</td>\n",
              "    </tr>\n",
              "    <tr>\n",
              "      <th>319</th>\n",
              "      <td>319</td>\n",
              "      <td>B</td>\n",
              "      <td>B</td>\n",
              "      <td>False</td>\n",
              "      <td>B</td>\n",
              "      <td>TF</td>\n",
              "      <td>3.0</td>\n",
              "      <td>B</td>\n",
              "    </tr>\n",
              "    <tr>\n",
              "      <th>322</th>\n",
              "      <td>322</td>\n",
              "      <td>C</td>\n",
              "      <td>C</td>\n",
              "      <td>False</td>\n",
              "      <td>C</td>\n",
              "      <td>cytokine</td>\n",
              "      <td>-1.2</td>\n",
              "      <td>C</td>\n",
              "    </tr>\n",
              "    <tr>\n",
              "      <th>325</th>\n",
              "      <td>325</td>\n",
              "      <td>D</td>\n",
              "      <td>D</td>\n",
              "      <td>False</td>\n",
              "      <td>D</td>\n",
              "      <td>cytokine</td>\n",
              "      <td>-2.5</td>\n",
              "      <td>D</td>\n",
              "    </tr>\n",
              "  </tbody>\n",
              "</table>\n",
              "</div>"
            ],
            "text/plain": [
              "    SUID shared name name selected id moleculeType log2fc row.names\n",
              "312  312           A    A    False  A       kinase    1.8         A\n",
              "319  319           B    B    False  B           TF    3.0         B\n",
              "322  322           C    C    False  C     cytokine   -1.2         C\n",
              "325  325           D    D    False  D     cytokine   -2.5         D"
            ]
          },
          "execution_count": 18,
          "metadata": {},
          "output_type": "execute_result"
        }
      ],
      "source": [
        "p4c.get_table_columns()"
      ],
      "id": "A-la4JQlfDWK"
    },
    {
      "cell_type": "markdown",
      "metadata": {
        "id": "vnRr6wuGfDWK"
      },
      "source": [
        "Note that adding the attributes does not in itself cause the appearance of the graph to change. Such a change requires that you specify and apply visual style mappings, which will be explained in the *next* section. You can, however, examine these attributes in Cytoscape, using Cytoscape’s the **Data Panel** to display data values associated with selected nodes immediately below the Cytoscape window.\n",
        "\n",
        "### Modifying the display: defaults and mappings\n",
        "\n",
        "py4cytoscape provides an easy way to not only change the default styles, but more interestingly, py4cytoscape also provides easy access to *mapping* your data to visual styles, e.g., allowing the size, shape and color of nodes and edges to be determined by the data you have associated with those nodes and edges.\n",
        "\n",
        "First, let’s change the the defaults."
      ],
      "id": "vnRr6wuGfDWK"
    },
    {
      "cell_type": "code",
      "execution_count": null,
      "metadata": {
        "id": "KC76X5zrfDWK",
        "outputId": "5ec3b2d4-5e7f-4178-b923-cee9fe6894b6"
      },
      "outputs": [
        {
          "name": "stdout",
          "output_type": "stream",
          "text": [
            "style_name not specified, so updating \"default\" style.\n"
          ]
        },
        {
          "data": {
            "text/plain": [
              "''"
            ]
          },
          "execution_count": 19,
          "metadata": {},
          "output_type": "execute_result"
        }
      ],
      "source": [
        "p4c.set_node_shape_default('OCTAGON')"
      ],
      "id": "KC76X5zrfDWK"
    },
    {
      "cell_type": "code",
      "execution_count": null,
      "metadata": {
        "id": "M1s3BLVOfDWK",
        "outputId": "42a48793-457f-4a1e-d460-fcf0e7d9406f"
      },
      "outputs": [
        {
          "data": {
            "image/png": "[encoded data removed]",
            "text/plain": [
              "<IPython.core.display.Image object>"
            ]
          },
          "execution_count": 20,
          "metadata": {},
          "output_type": "execute_result"
        }
      ],
      "source": [
        "p4c.notebook_export_show_image()"
      ],
      "id": "M1s3BLVOfDWK"
    },
    {
      "cell_type": "code",
      "execution_count": null,
      "metadata": {
        "id": "V2k_Wud7fDWK",
        "outputId": "1ea888ab-8363-4332-f69e-fcc1c861d9ef"
      },
      "outputs": [
        {
          "name": "stdout",
          "output_type": "stream",
          "text": [
            "style_name not specified, so updating \"default\" style.\n"
          ]
        },
        {
          "data": {
            "text/plain": [
              "''"
            ]
          },
          "execution_count": 21,
          "metadata": {},
          "output_type": "execute_result"
        }
      ],
      "source": [
        "p4c.set_node_color_default('#AAFF88')"
      ],
      "id": "V2k_Wud7fDWK"
    },
    {
      "cell_type": "code",
      "execution_count": null,
      "metadata": {
        "id": "MASwNX0LfDWK",
        "outputId": "0c30457d-77b4-4393-89f9-83ce1f2953b5"
      },
      "outputs": [
        {
          "data": {
            "image/png": "[encoded data removed]",
            "text/plain": [
              "<IPython.core.display.Image object>"
            ]
          },
          "execution_count": 22,
          "metadata": {},
          "output_type": "execute_result"
        }
      ],
      "source": [
        "p4c.notebook_export_show_image()"
      ],
      "id": "MASwNX0LfDWK"
    },
    {
      "cell_type": "code",
      "execution_count": null,
      "metadata": {
        "id": "I-MuHwDGfDWL",
        "outputId": "f190537a-0df0-4ae8-f64b-9dc778bac310"
      },
      "outputs": [
        {
          "name": "stdout",
          "output_type": "stream",
          "text": [
            "style_name not specified, so updating \"default\" style.\n",
            "style_name not specified, so updating \"default\" style.\n"
          ]
        },
        {
          "data": {
            "text/plain": [
              "''"
            ]
          },
          "execution_count": 23,
          "metadata": {},
          "output_type": "execute_result"
        }
      ],
      "source": [
        "p4c.set_node_size_default(60)"
      ],
      "id": "I-MuHwDGfDWL"
    },
    {
      "cell_type": "code",
      "execution_count": null,
      "metadata": {
        "id": "9qetT3YIfDWL",
        "outputId": "24af9e80-99ac-4d5b-e1af-817aedfa35f5"
      },
      "outputs": [
        {
          "data": {
            "image/png": "[encoded data removed]",
            "text/plain": [
              "<IPython.core.display.Image object>"
            ]
          },
          "execution_count": 24,
          "metadata": {},
          "output_type": "execute_result"
        }
      ],
      "source": [
        "p4c.notebook_export_show_image()"
      ],
      "id": "9qetT3YIfDWL"
    },
    {
      "cell_type": "code",
      "execution_count": null,
      "metadata": {
        "id": "76SonfFIfDWL",
        "outputId": "a19dde68-f884-4b21-e977-e75b051be9c2"
      },
      "outputs": [
        {
          "name": "stdout",
          "output_type": "stream",
          "text": [
            "style_name not specified, so updating \"default\" style.\n"
          ]
        },
        {
          "data": {
            "text/plain": [
              "''"
            ]
          },
          "execution_count": 25,
          "metadata": {},
          "output_type": "execute_result"
        }
      ],
      "source": [
        "p4c.set_node_font_size_default(30)"
      ],
      "id": "76SonfFIfDWL"
    },
    {
      "cell_type": "code",
      "execution_count": null,
      "metadata": {
        "id": "4Q4SW6mWfDWL",
        "outputId": "eae2d027-00fe-4933-d864-78060b75520b"
      },
      "outputs": [
        {
          "data": {
            "image/png": "[encoded data removed]",
            "text/plain": [
              "<IPython.core.display.Image object>"
            ]
          },
          "execution_count": 26,
          "metadata": {},
          "output_type": "execute_result"
        }
      ],
      "source": [
        "p4c.notebook_export_show_image()"
      ],
      "id": "4Q4SW6mWfDWL"
    },
    {
      "cell_type": "markdown",
      "metadata": {
        "id": "dfx2Ug7UfDWL"
      },
      "source": [
        "Now we will add some visual mappings. Let’s map `moleculeType’ to node shapes. First, we can see which shapes are available in Cytoscape, then we can define the mapping with paired lists."
      ],
      "id": "dfx2Ug7UfDWL"
    },
    {
      "cell_type": "code",
      "execution_count": null,
      "metadata": {
        "id": "LeNBq0CifDWL",
        "outputId": "f01b8652-6769-404d-a785-30175b42d5b4"
      },
      "outputs": [
        {
          "data": {
            "text/plain": [
              "['PARALLELOGRAM',\n",
              " 'ELLIPSE',\n",
              " 'TRIANGLE',\n",
              " 'DIAMOND',\n",
              " 'HEXAGON',\n",
              " 'VEE',\n",
              " 'OCTAGON',\n",
              " 'RECTANGLE',\n",
              " 'ROUND_RECTANGLE']"
            ]
          },
          "execution_count": 27,
          "metadata": {},
          "output_type": "execute_result"
        }
      ],
      "source": [
        "p4c.get_node_shapes()"
      ],
      "id": "LeNBq0CifDWL"
    },
    {
      "cell_type": "code",
      "execution_count": null,
      "metadata": {
        "id": "VBIrGXyLfDWL",
        "outputId": "18f2def0-1a6b-4dc7-c14a-24e144ae83ee"
      },
      "outputs": [
        {
          "data": {
            "text/html": [
              "<div>\n",
              "<style scoped>\n",
              "    .dataframe tbody tr th:only-of-type {\n",
              "        vertical-align: middle;\n",
              "    }\n",
              "\n",
              "    .dataframe tbody tr th {\n",
              "        vertical-align: top;\n",
              "    }\n",
              "\n",
              "    .dataframe thead th {\n",
              "        text-align: right;\n",
              "    }\n",
              "</style>\n",
              "<table border=\"1\" class=\"dataframe\">\n",
              "  <thead>\n",
              "    <tr style=\"text-align: right;\">\n",
              "      <th></th>\n",
              "      <th>SUID</th>\n",
              "      <th>shared name</th>\n",
              "      <th>name</th>\n",
              "      <th>selected</th>\n",
              "      <th>id</th>\n",
              "      <th>moleculeType</th>\n",
              "      <th>log2fc</th>\n",
              "      <th>row.names</th>\n",
              "    </tr>\n",
              "  </thead>\n",
              "  <tbody>\n",
              "    <tr>\n",
              "      <th>312</th>\n",
              "      <td>312</td>\n",
              "      <td>A</td>\n",
              "      <td>A</td>\n",
              "      <td>False</td>\n",
              "      <td>A</td>\n",
              "      <td>kinase</td>\n",
              "      <td>1.8</td>\n",
              "      <td>A</td>\n",
              "    </tr>\n",
              "    <tr>\n",
              "      <th>319</th>\n",
              "      <td>319</td>\n",
              "      <td>B</td>\n",
              "      <td>B</td>\n",
              "      <td>False</td>\n",
              "      <td>B</td>\n",
              "      <td>TF</td>\n",
              "      <td>3.0</td>\n",
              "      <td>B</td>\n",
              "    </tr>\n",
              "    <tr>\n",
              "      <th>322</th>\n",
              "      <td>322</td>\n",
              "      <td>C</td>\n",
              "      <td>C</td>\n",
              "      <td>False</td>\n",
              "      <td>C</td>\n",
              "      <td>cytokine</td>\n",
              "      <td>-1.2</td>\n",
              "      <td>C</td>\n",
              "    </tr>\n",
              "    <tr>\n",
              "      <th>325</th>\n",
              "      <td>325</td>\n",
              "      <td>D</td>\n",
              "      <td>D</td>\n",
              "      <td>False</td>\n",
              "      <td>D</td>\n",
              "      <td>cytokine</td>\n",
              "      <td>-2.5</td>\n",
              "      <td>D</td>\n",
              "    </tr>\n",
              "  </tbody>\n",
              "</table>\n",
              "</div>"
            ],
            "text/plain": [
              "    SUID shared name name selected id moleculeType log2fc row.names\n",
              "312  312           A    A    False  A       kinase    1.8         A\n",
              "319  319           B    B    False  B           TF    3.0         B\n",
              "322  322           C    C    False  C     cytokine   -1.2         C\n",
              "325  325           D    D    False  D     cytokine   -2.5         D"
            ]
          },
          "execution_count": 28,
          "metadata": {},
          "output_type": "execute_result"
        }
      ],
      "source": [
        "p4c.get_table_columns()"
      ],
      "id": "VBIrGXyLfDWL"
    },
    {
      "cell_type": "code",
      "execution_count": null,
      "metadata": {
        "id": "AV-TfI5AfDWO",
        "outputId": "b23ad603-948e-4330-930a-1bc785a4793a"
      },
      "outputs": [
        {
          "name": "stdout",
          "output_type": "stream",
          "text": [
            "style_name not specified, so updating \"default\" style.\n"
          ]
        },
        {
          "data": {
            "text/plain": [
              "''"
            ]
          },
          "execution_count": 29,
          "metadata": {},
          "output_type": "execute_result"
        }
      ],
      "source": [
        "column = 'moleculeType'\n",
        "values = ['kinase', 'TF', 'cytokine']\n",
        "shapes = ['DIAMOND', 'TRIANGLE', 'RECTANGLE']\n",
        "\n",
        "p4c.set_node_shape_mapping(column, values, shapes)"
      ],
      "id": "AV-TfI5AfDWO"
    },
    {
      "cell_type": "code",
      "execution_count": null,
      "metadata": {
        "id": "RiB0r9CBfDWO",
        "outputId": "d6361821-3be2-41cf-8502-60fcf52627a7"
      },
      "outputs": [
        {
          "data": {
            "image/png": "[encoded data removed]",
            "text/plain": [
              "<IPython.core.display.Image object>"
            ]
          },
          "execution_count": 30,
          "metadata": {},
          "output_type": "execute_result"
        }
      ],
      "source": [
        "p4c.notebook_export_show_image()"
      ],
      "id": "RiB0r9CBfDWO"
    },
    {
      "cell_type": "markdown",
      "metadata": {
        "id": "szByQ6CRfDWO"
      },
      "source": [
        "The node shape mapping is an example of a *discrete* mapping, where a style is defined for each, discrete value. This is useful for categorical data (like type) where there is only a limited set of possible values. This is in contast to the other two other types of mappings: *continuous* and *passthrough*. In the case of expression values, for example, we will want to use *continuous* mapping (e.g., to node color) rather than an explicit color for each possible data value. py4cytoscape provides the gradient of colors in a simple way. Let’s try that one now"
      ],
      "id": "szByQ6CRfDWO"
    },
    {
      "cell_type": "code",
      "execution_count": null,
      "metadata": {
        "id": "o7wzTk-MfDWO",
        "outputId": "39716f92-4316-415e-db3c-a81346823100"
      },
      "outputs": [
        {
          "name": "stdout",
          "output_type": "stream",
          "text": [
            "style_name not specified, so updating \"default\" style.\n"
          ]
        },
        {
          "data": {
            "text/plain": [
              "''"
            ]
          },
          "execution_count": 31,
          "metadata": {},
          "output_type": "execute_result"
        }
      ],
      "source": [
        "from py4cytoscape import palette_color_brewer_d_RdBu\n",
        "p4c.set_node_color_mapping(**gen_node_color_map('log2fc', palette_color_brewer_d_RdBu()))"
      ],
      "id": "o7wzTk-MfDWO"
    },
    {
      "cell_type": "markdown",
      "metadata": {
        "id": "7gbFD0a1fDWO"
      },
      "source": [
        "Note that there are `palette_color_brewer_d_RdBu` function.\n",
        "This generates a divergent palette for continuous mappings of mixed-signed values.\n",
        "Here `_d_` means \"divergent\" (does not means \"discrete\")."
      ],
      "id": "7gbFD0a1fDWO"
    },
    {
      "cell_type": "code",
      "execution_count": null,
      "metadata": {
        "id": "-XUF8Qp-fDWO",
        "outputId": "0ecc92ce-3949-409c-b77c-c17785b422a3"
      },
      "outputs": [
        {
          "data": {
            "text/html": [
              "<div>\n",
              "<style scoped>\n",
              "    .dataframe tbody tr th:only-of-type {\n",
              "        vertical-align: middle;\n",
              "    }\n",
              "\n",
              "    .dataframe tbody tr th {\n",
              "        vertical-align: top;\n",
              "    }\n",
              "\n",
              "    .dataframe thead th {\n",
              "        text-align: right;\n",
              "    }\n",
              "</style>\n",
              "<table border=\"1\" class=\"dataframe\">\n",
              "  <thead>\n",
              "    <tr style=\"text-align: right;\">\n",
              "      <th></th>\n",
              "      <th>SUID</th>\n",
              "      <th>shared name</th>\n",
              "      <th>name</th>\n",
              "      <th>selected</th>\n",
              "      <th>id</th>\n",
              "      <th>moleculeType</th>\n",
              "      <th>log2fc</th>\n",
              "      <th>row.names</th>\n",
              "    </tr>\n",
              "  </thead>\n",
              "  <tbody>\n",
              "    <tr>\n",
              "      <th>312</th>\n",
              "      <td>312</td>\n",
              "      <td>A</td>\n",
              "      <td>A</td>\n",
              "      <td>False</td>\n",
              "      <td>A</td>\n",
              "      <td>kinase</td>\n",
              "      <td>1.8</td>\n",
              "      <td>A</td>\n",
              "    </tr>\n",
              "    <tr>\n",
              "      <th>319</th>\n",
              "      <td>319</td>\n",
              "      <td>B</td>\n",
              "      <td>B</td>\n",
              "      <td>False</td>\n",
              "      <td>B</td>\n",
              "      <td>TF</td>\n",
              "      <td>3.0</td>\n",
              "      <td>B</td>\n",
              "    </tr>\n",
              "    <tr>\n",
              "      <th>322</th>\n",
              "      <td>322</td>\n",
              "      <td>C</td>\n",
              "      <td>C</td>\n",
              "      <td>False</td>\n",
              "      <td>C</td>\n",
              "      <td>cytokine</td>\n",
              "      <td>-1.2</td>\n",
              "      <td>C</td>\n",
              "    </tr>\n",
              "    <tr>\n",
              "      <th>325</th>\n",
              "      <td>325</td>\n",
              "      <td>D</td>\n",
              "      <td>D</td>\n",
              "      <td>False</td>\n",
              "      <td>D</td>\n",
              "      <td>cytokine</td>\n",
              "      <td>-2.5</td>\n",
              "      <td>D</td>\n",
              "    </tr>\n",
              "  </tbody>\n",
              "</table>\n",
              "</div>"
            ],
            "text/plain": [
              "    SUID shared name name selected id moleculeType log2fc row.names\n",
              "312  312           A    A    False  A       kinase    1.8         A\n",
              "319  319           B    B    False  B           TF    3.0         B\n",
              "322  322           C    C    False  C     cytokine   -1.2         C\n",
              "325  325           D    D    False  D     cytokine   -2.5         D"
            ]
          },
          "execution_count": 33,
          "metadata": {},
          "output_type": "execute_result"
        }
      ],
      "source": [
        "p4c.get_table_columns()"
      ],
      "id": "-XUF8Qp-fDWO"
    },
    {
      "cell_type": "code",
      "execution_count": null,
      "metadata": {
        "id": "Ux4_jNNIfDWP",
        "outputId": "cf23a00a-dd6e-4bd4-a41e-bd9059bb1b22"
      },
      "outputs": [
        {
          "data": {
            "image/png": "[encoded data removed]",
            "text/plain": [
              "<IPython.core.display.Image object>"
            ]
          },
          "execution_count": 34,
          "metadata": {},
          "output_type": "execute_result"
        }
      ],
      "source": [
        "p4c.notebook_export_show_image()"
      ],
      "id": "Ux4_jNNIfDWP"
    },
    {
      "cell_type": "markdown",
      "metadata": {
        "id": "7n-CmNnrfDWP"
      },
      "source": [
        "### Selecting nodes\n",
        "Let us now try selecting nodes in Cytoscape from Python. Select the C node by name:"
      ],
      "id": "7n-CmNnrfDWP"
    },
    {
      "cell_type": "code",
      "execution_count": null,
      "metadata": {
        "id": "w5h9u7O3fDWP",
        "outputId": "698d7b06-6e44-4f8c-e7e9-6bc7fb10124b"
      },
      "outputs": [
        {
          "data": {
            "text/plain": [
              "{'nodes': [322], 'edges': []}"
            ]
          },
          "execution_count": 35,
          "metadata": {},
          "output_type": "execute_result"
        }
      ],
      "source": [
        "p4c.select_nodes('C', 'name')"
      ],
      "id": "w5h9u7O3fDWP"
    },
    {
      "cell_type": "code",
      "execution_count": null,
      "metadata": {
        "id": "TMYfJs_kfDWP",
        "outputId": "1ad3c4a1-50c9-48cf-f482-ac76a95608aa"
      },
      "outputs": [
        {
          "data": {
            "text/plain": [
              "['C']"
            ]
          },
          "execution_count": 36,
          "metadata": {},
          "output_type": "execute_result"
        }
      ],
      "source": [
        "p4c.get_selected_nodes()"
      ],
      "id": "TMYfJs_kfDWP"
    },
    {
      "cell_type": "code",
      "execution_count": null,
      "metadata": {
        "id": "D-QEsB6gfDWP",
        "outputId": "2c4294d4-6994-4717-cb10-ea2f9d8400f0"
      },
      "outputs": [
        {
          "data": {
            "image/png": "[encoded data removed]",
            "text/plain": [
              "<IPython.core.display.Image object>"
            ]
          },
          "execution_count": 37,
          "metadata": {},
          "output_type": "execute_result"
        }
      ],
      "source": [
        "p4c.notebook_export_show_image()"
      ],
      "id": "D-QEsB6gfDWP"
    },
    {
      "cell_type": "markdown",
      "metadata": {
        "id": "qyU4AFBlfDWP"
      },
      "source": [
        "Now we wish to extend the selected nodes to include the first neighbors of the already-selected node B. This is a common operation: for instance, after selecting one or more nodes based on experimental data or annotation, you may want to explore these in the context of interaction partners (in a protein-protein network) or in relation to upstream and downstream partners in a signaling or metabolic network. Type:"
      ],
      "id": "qyU4AFBlfDWP"
    },
    {
      "cell_type": "code",
      "execution_count": null,
      "metadata": {
        "id": "U6NmoCHffDWP",
        "outputId": "859287ab-79d7-4245-a6d7-6ed5c5208553"
      },
      "outputs": [
        {
          "data": {
            "text/plain": [
              "{'nodes': [319, 322, 325], 'edges': []}"
            ]
          },
          "execution_count": 38,
          "metadata": {},
          "output_type": "execute_result"
        }
      ],
      "source": [
        "p4c.select_first_neighbors()"
      ],
      "id": "U6NmoCHffDWP"
    },
    {
      "cell_type": "code",
      "execution_count": null,
      "metadata": {
        "id": "u3Tk8NN3fDWP",
        "outputId": "b107f120-3b85-4133-deb2-92a070671ffc"
      },
      "outputs": [
        {
          "data": {
            "image/png": "[encoded data removed]",
            "text/plain": [
              "<IPython.core.display.Image object>"
            ]
          },
          "execution_count": 39,
          "metadata": {},
          "output_type": "execute_result"
        }
      ],
      "source": [
        "p4c.notebook_export_show_image()"
      ],
      "id": "u3Tk8NN3fDWP"
    },
    {
      "cell_type": "markdown",
      "metadata": {
        "id": "eBywig5nfDWP"
      },
      "source": [
        "You will see that three nodes are now selected. Get their names back to Python as a list:"
      ],
      "id": "eBywig5nfDWP"
    },
    {
      "cell_type": "code",
      "execution_count": null,
      "metadata": {
        "id": "8-Ae7NuIfDWQ"
      },
      "outputs": [],
      "source": [
        "node_names = p4c.get_selected_nodes()"
      ],
      "id": "8-Ae7NuIfDWQ"
    },
    {
      "cell_type": "code",
      "execution_count": null,
      "metadata": {
        "id": "OXuKsckGfDWQ",
        "outputId": "ad048df1-cda7-4169-9d97-349b8dddc96a"
      },
      "outputs": [
        {
          "data": {
            "text/plain": [
              "['C', 'D', 'B']"
            ]
          },
          "execution_count": 41,
          "metadata": {},
          "output_type": "execute_result"
        }
      ],
      "source": [
        "node_names"
      ],
      "id": "OXuKsckGfDWQ"
    },
    {
      "cell_type": "markdown",
      "metadata": {
        "id": "KxKgoIAVfDWQ"
      },
      "source": [
        "*And*, finally, deselection works as you’d expect by means of a general *p4c.clearSelection()* function:"
      ],
      "id": "KxKgoIAVfDWQ"
    },
    {
      "cell_type": "code",
      "execution_count": null,
      "metadata": {
        "id": "HbtSPbBofDWQ",
        "outputId": "5ff41c7a-1485-4c01-fec4-b2707d75e13b"
      },
      "outputs": [
        {
          "data": {
            "text/plain": [
              "''"
            ]
          },
          "execution_count": 42,
          "metadata": {},
          "output_type": "execute_result"
        }
      ],
      "source": [
        "p4c.clear_selection()"
      ],
      "id": "HbtSPbBofDWQ"
    },
    {
      "cell_type": "code",
      "execution_count": null,
      "metadata": {
        "id": "oydZAzxefDWQ",
        "outputId": "a045bcdc-9177-4051-fcb6-181297d4246d"
      },
      "outputs": [
        {
          "data": {
            "image/png": "[encoded data removed]",
            "text/plain": [
              "<IPython.core.display.Image object>"
            ]
          },
          "execution_count": 43,
          "metadata": {},
          "output_type": "execute_result"
        }
      ],
      "source": [
        "p4c.notebook_export_show_image()"
      ],
      "id": "oydZAzxefDWQ"
    },
    {
      "cell_type": "markdown",
      "metadata": {
        "id": "B4hLL4ixfDWQ"
      },
      "source": [
        "## Browse available functions\n",
        "\n",
        "py4cytoscape functions"
      ],
      "id": "B4hLL4ixfDWQ"
    },
    {
      "cell_type": "markdown",
      "metadata": {
        "id": "pxUTEHO6fDWQ"
      },
      "source": [
        "Category | Description | Examples\n",
        "--- | --- | ---\n",
        "apps | Inspecting and managing apps for Cytoscape. | *install_app<br/> disable_app<br/> get_installed_apps*\n",
        "collections | Getting information about network collections. | *get_collection_list<br/> get_collection_networks*\n",
        "commands | Constructing any arbitrary CyREST API or Commands API method via standard GET, PUT, POST and DELETE protocols. | *cyrest_get<br/> commands_post<br/> cyrest_api<br/> commands_run*\n",
        "cy_ndex | Communicating with NDEx from within Cytoscape. | *import_network_from_ndex<br/> export_network_to_ndex<br/>*\n",
        "cytoscape_system | Checking Cytoscape System information, including versions and memory usage. | *cytoscape_ping<br/> cytoscape_version_info<br/>*\n",
        "filters |\tSelecting nodes and edges based on filter criteria. |*create_degree_filter<br/> create_column_filter<br/>*\n",
        "groups | Working with groups in Cytoscape. | *create_group<br/> collapse_group<br/>*\n",
        "layouts | Performing layouts in addition to getting and setting layout properties. | *layout_network<br/> get_layout_names<br/>*\n",
        "networks | Creating and managing networks and retrieving information on networks, nodes and edges. | *create_network_from…<br/> create…_from_network<br/> get_network_suid<br/> export_network<br/> get_all_nodes<br/> get_edge_count<br/> get_first_neighbors<br/>*\n",
        "network_selection | Manipulating selection of nodes and edges in networks. | *select_nodes<br/> invert_node_selection<br/> select_first_neighbors<br/>*\n",
        "network_views | Performing view operations in addition to getting and setting view properties. | *fit_content<br/> export_image<br/> toggle_graphics_details*\n",
        "session | Managing Cytoscape sessions, including save, open and close. | *open_session<br/> save_session<br/> close_session*\n",
        "style_bypasses | Setting and clearing bypass values for visual properties. | *set_node_color_bypass<br/> set_edge_line_style_bypass<br/> hide_nodes*\n",
        "style_defaults | Getting and setting default values for visual properties. | *set_node_shape_default<br/> set_edge_line_width_default*\n",
        "style_dependencies | Getting and setting style dependencies. | *lock_node_dimensions*\n",
        "style_mappings | Defining mappings between table column values and visual properties. | *map_visual_property<br/> update_style_mapping<br/> set_node_size_mapping<br/> set_edge_color_mapping*\n",
        "styles | Managing styles and retrieving general lists of properties relevant to multiple style modes. | *create_visual_style<br/> set_visual_style<br/> export_visual_styles<br/> get_arrow_shapes*\n",
        "style_values | Retrieving current values for visual properties. | *get_node_width<br/> get_edge_color<br/> get_network_zoom*\n",
        "tables | Managing table columns and table column functions, like map and rename, as well as loading and extracting table data in Cytoscape. | *get_table_columns<br/> rename_table_column<br/> load_table_data<br/> map_table_column*\n",
        "tools | Performing actions found in the Tools Menu in Cytoscape. | *cybrowser_dialog<br/> diffusion_basic*\n",
        "user_interface | Controling the panels in the Cytoscape user interface. | *hide_panel<br/> float_panel<br/> dock_panel*\n"
      ],
      "id": "pxUTEHO6fDWQ"
    },
    {
      "cell_type": "markdown",
      "metadata": {
        "id": "mSi4sKCYfDWQ"
      },
      "source": [
        "## More examples\n",
        "\n",
        "The Cytoscape team is collecting scripts from the community in a public GitHub repository at https://github.com/cytoscape/cytoscape-automation/tree/master/for-scripters/Python.\n",
        "\n",
        "## Development\n",
        "\n",
        "The py4cytoscape project code and documentation is maintained at GitHub: https://github.com/cytoscape/py4cytoscape. All bugs and feature requests are tracked as Issues, https://github.com/cytoscape/py4cytoscape/issues.\n",
        "\n",
        "## Credits\n",
        "\n",
        "- Paul Shannon’s generous advice and mentorship was very important for transforming this package from using XMLRPC and CytoscapeRPC to using CyREST.\n",
        "- David Otasek, Keiichiro Ono and Barry Demchak kindly provided CyREST as well as help and support for new functionalities and changes.\n",
        "- Mark Grimes and Ruth Isserlin kindly provided helpful user feedback.\n",
        "- Julia Gustavsen generously developed various use cases/examples for using RCy3 with biological data during GSOC 2016, https://github.com/jooolia/gsoc_Rcy3_vignettes/blob/master/blog_post_drafts/final_work_submission.md.\n",
        "- Tanja Muetze provided many years of development, design, maintenance and documentation for the RCy3 project.\n",
        "- All contributors, new and old, are dynamically acknowledged in our Contributor Graph, https://github.com/cytoscape/py4cytoscape/graphs/contributors\n",
        "\n",
        "## References\n",
        "\n",
        "1. Shannon P, Markiel A, Ozier O, Baliga NS, Wang JT, Ramage D, Amin N, Schwikowski B, Ideker T. 2003. Cytoscape: a software environment for integrated models of biomolecular interaction networks. Genome Res. Nov;13(11):2498-504\n",
        "2. Huber W, Carey VJ, Long L, Falcon S, Gentleman R. 2007. Graphs in molecular biology. BMC Bioinformatics. 2007 Sep 27;8.\n",
        "3. Ono K, Muetze T, Kolishovski G, Shannon P, Demchak B. CyREST: Turbocharging Cytoscape Access for External Tools via a RESTful API [version 1; referees: 2 approved]. F1000Research 2015, 4:478.\n",
        "4. Otasek D, Morris JH, Bouças J, Pico AR, Demchak B. 2019. Cytoscape Automation: empowering workflow-based network analysis. Genome Biol. 2019 Sep 2;20(1):185.\n"
      ],
      "id": "mSi4sKCYfDWQ"
    },
    {
      "cell_type": "code",
      "execution_count": null,
      "metadata": {
        "id": "Grkgzpp3fDWQ"
      },
      "outputs": [],
      "source": [],
      "id": "Grkgzpp3fDWQ"
    }
  ],
  "metadata": {
    "kernelspec": {
      "display_name": "Python 3",
      "language": "python",
      "name": "python3"
    },
    "language_info": {
      "codemirror_mode": {
        "name": "ipython",
        "version": 3
      },
      "file_extension": ".py",
      "mimetype": "text/x-python",
      "name": "python",
      "nbconvert_exporter": "python",
      "pygments_lexer": "ipython3",
      "version": "3.8.5"
    },
    "colab": {
      "provenance": [],
      "toc_visible": true
    },
    "widgets": {
      "application/vnd.jupyter.widget-state+json": {
        "344ab37e7399496fbf75d8d5f969e691": {
          "model_module": "@jupyter-widgets/output",
          "model_name": "OutputModel",
          "model_module_version": "1.0.0",
          "state": {
            "_dom_classes": [],
            "_model_module": "@jupyter-widgets/output",
            "_model_module_version": "1.0.0",
            "_model_name": "OutputModel",
            "_view_count": null,
            "_view_module": "@jupyter-widgets/output",
            "_view_module_version": "1.0.0",
            "_view_name": "OutputView",
            "layout": "IPY_MODEL_433d03708d2549c5ad22d64a3879ef5f",
            "msg_id": "",
            "outputs": [
              {
                "output_type": "display_data",
                "data": {
                  "text/plain": "   \u001b[38;5;237m━━━━━━━━━━━━━━━━━━━━━━━━━━━━━━━━━━━━━━━━\u001b[0m \u001b[32m0.0/181.8 kB\u001b[0m \u001b[31m?\u001b[0m eta \u001b[36m-:--:--\u001b[0m\n",
                  "text/html": "<pre style=\"white-space:pre;overflow-x:auto;line-height:normal;font-family:Menlo,'DejaVu Sans Mono',consolas,'Courier New',monospace\">   <span style=\"color: #3a3a3a; text-decoration-color: #3a3a3a\">━━━━━━━━━━━━━━━━━━━━━━━━━━━━━━━━━━━━━━━━</span> <span style=\"color: #008000; text-decoration-color: #008000\">0.0/181.8 kB</span> <span style=\"color: #800000; text-decoration-color: #800000\">?</span> eta <span style=\"color: #008080; text-decoration-color: #008080\">-:--:--</span>\n</pre>\n"
                },
                "metadata": {}
              }
            ]
          }
        },
        "433d03708d2549c5ad22d64a3879ef5f": {
          "model_module": "@jupyter-widgets/base",
          "model_name": "LayoutModel",
          "model_module_version": "1.2.0",
          "state": {
            "_model_module": "@jupyter-widgets/base",
            "_model_module_version": "1.2.0",
            "_model_name": "LayoutModel",
            "_view_count": null,
            "_view_module": "@jupyter-widgets/base",
            "_view_module_version": "1.2.0",
            "_view_name": "LayoutView",
            "align_content": null,
            "align_items": null,
            "align_self": null,
            "border": null,
            "bottom": null,
            "display": null,
            "flex": null,
            "flex_flow": null,
            "grid_area": null,
            "grid_auto_columns": null,
            "grid_auto_flow": null,
            "grid_auto_rows": null,
            "grid_column": null,
            "grid_gap": null,
            "grid_row": null,
            "grid_template_areas": null,
            "grid_template_columns": null,
            "grid_template_rows": null,
            "height": null,
            "justify_content": null,
            "justify_items": null,
            "left": null,
            "margin": null,
            "max_height": null,
            "max_width": null,
            "min_height": null,
            "min_width": null,
            "object_fit": null,
            "object_position": null,
            "order": null,
            "overflow": null,
            "overflow_x": null,
            "overflow_y": null,
            "padding": null,
            "right": null,
            "top": null,
            "visibility": null,
            "width": null
          }
        },
        "c99a7ca8db234e659ae0bffd6c86f067": {
          "model_module": "@jupyter-widgets/output",
          "model_name": "OutputModel",
          "model_module_version": "1.0.0",
          "state": {
            "_dom_classes": [],
            "_model_module": "@jupyter-widgets/output",
            "_model_module_version": "1.0.0",
            "_model_name": "OutputModel",
            "_view_count": null,
            "_view_module": "@jupyter-widgets/output",
            "_view_module_version": "1.0.0",
            "_view_name": "OutputView",
            "layout": "IPY_MODEL_25ba9dda28f3438c8ec0d13160d6b2d8",
            "msg_id": "",
            "outputs": [
              {
                "output_type": "display_data",
                "data": {
                  "text/plain": "   \u001b[38;2;249;38;114m━━━━━━━━━━━━━━━━━━━━━━━━━━━━━━━━━━━━━━━\u001b[0m\u001b[38;2;249;38;114m╸\u001b[0m \u001b[32m3.1/3.1 MB\u001b[0m \u001b[31m45.5 MB/s\u001b[0m eta \u001b[36m0:00:01\u001b[0m\n",
                  "text/html": "<pre style=\"white-space:pre;overflow-x:auto;line-height:normal;font-family:Menlo,'DejaVu Sans Mono',consolas,'Courier New',monospace\">   <span style=\"color: #f92672; text-decoration-color: #f92672\">━━━━━━━━━━━━━━━━━━━━━━━━━━━━━━━━━━━━━━━╸</span> <span style=\"color: #008000; text-decoration-color: #008000\">3.1/3.1 MB</span> <span style=\"color: #800000; text-decoration-color: #800000\">45.5 MB/s</span> eta <span style=\"color: #008080; text-decoration-color: #008080\">0:00:01</span>\n</pre>\n"
                },
                "metadata": {}
              }
            ]
          }
        },
        "25ba9dda28f3438c8ec0d13160d6b2d8": {
          "model_module": "@jupyter-widgets/base",
          "model_name": "LayoutModel",
          "model_module_version": "1.2.0",
          "state": {
            "_model_module": "@jupyter-widgets/base",
            "_model_module_version": "1.2.0",
            "_model_name": "LayoutModel",
            "_view_count": null,
            "_view_module": "@jupyter-widgets/base",
            "_view_module_version": "1.2.0",
            "_view_name": "LayoutView",
            "align_content": null,
            "align_items": null,
            "align_self": null,
            "border": null,
            "bottom": null,
            "display": null,
            "flex": null,
            "flex_flow": null,
            "grid_area": null,
            "grid_auto_columns": null,
            "grid_auto_flow": null,
            "grid_auto_rows": null,
            "grid_column": null,
            "grid_gap": null,
            "grid_row": null,
            "grid_template_areas": null,
            "grid_template_columns": null,
            "grid_template_rows": null,
            "height": null,
            "justify_content": null,
            "justify_items": null,
            "left": null,
            "margin": null,
            "max_height": null,
            "max_width": null,
            "min_height": null,
            "min_width": null,
            "object_fit": null,
            "object_position": null,
            "order": null,
            "overflow": null,
            "overflow_x": null,
            "overflow_y": null,
            "padding": null,
            "right": null,
            "top": null,
            "visibility": null,
            "width": null
          }
        }
      }
    }
  },
  "nbformat": 4,
  "nbformat_minor": 5
}